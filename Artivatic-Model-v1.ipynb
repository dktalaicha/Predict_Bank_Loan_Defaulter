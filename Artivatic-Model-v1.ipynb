{
 "cells": [
  {
   "cell_type": "markdown",
   "metadata": {},
   "source": [
    "# Defining the problem statement: \n",
    "#### Create a Predictive model which can tell if a member will default or not?\n",
    "\n",
    "\n",
    "\n",
    "* loan_status=0,  Non-Defaulter member\n",
    "* loan_status=1, Defaulter memeber"
   ]
  },
  {
   "cell_type": "code",
   "execution_count": 95,
   "metadata": {},
   "outputs": [],
   "source": [
    "import numpy as np\n",
    "import pandas as pd\n",
    "import matplotlib.pyplot as plt\n",
    "import seaborn as sns\n",
    "\n",
    "# Magin function for in-line display\n",
    "%matplotlib inline\n",
    "\n",
    "# Setting seabon style\n",
    "sns.set(style='darkgrid', palette='colorblind')\n",
    "\n",
    "# Customising default values to view all columns\n",
    "pd.options.display.max_rows = 100\n",
    "pd.options.display.max_columns = 100\n",
    "# pd.set_option('display.max_rows',1000)\n",
    "\n",
    "\n",
    "#ignore warnings\n",
    "import warnings\n",
    "warnings.filterwarnings('ignore')\n",
    "\n",
    "from sklearn.preprocessing import StandardScaler\n",
    "\n",
    "# Importing Classifier Modules\n",
    "from sklearn.linear_model import LogisticRegression\n",
    "from sklearn.svm import SVC, LinearSVC\n",
    "from sklearn.neighbors import KNeighborsClassifier\n",
    "from sklearn.tree import DecisionTreeClassifier\n",
    "from sklearn.ensemble import RandomForestClassifier\n",
    "from sklearn.naive_bayes import GaussianNB\n",
    "from sklearn.linear_model import Perceptron\n",
    "from sklearn.linear_model import SGDClassifier\n",
    "from sklearn.ensemble import GradientBoostingClassifier\n",
    "# from xgboost import XGBClassifier\n",
    "\n",
    "# Load the library for splitting the data\n",
    "from sklearn.model_selection import train_test_split\n",
    "from sklearn import metrics\n",
    "\n",
    "from sklearn.model_selection import GridSearchCV"
   ]
  },
  {
   "cell_type": "code",
   "execution_count": 3,
   "metadata": {},
   "outputs": [],
   "source": [
    "# Read the three datasets\n",
    "\n",
    "train = pd.read_csv(\"./train_indessa.csv\", encoding=\"latin_1\")\n",
    "test = pd.read_csv(\"./test_indessa.csv\", encoding=\"latin_1\")\n",
    "submission = pd.read_csv(\"./sample_submission.csv\", encoding=\"latin_1\")"
   ]
  },
  {
   "cell_type": "code",
   "execution_count": 4,
   "metadata": {},
   "outputs": [
    {
     "name": "stdout",
     "output_type": "stream",
     "text": [
      "Shape of Train dataset :  (532428, 45)\n",
      "Shape of Test dataset :  (354951, 44)\n",
      "Shape of Submission dataset :  (100, 2)\n"
     ]
    }
   ],
   "source": [
    "print(\"Shape of Train dataset : \", train.shape)\n",
    "print(\"Shape of Test dataset : \", test.shape)\n",
    "print(\"Shape of Submission dataset : \", submission.shape)"
   ]
  },
  {
   "cell_type": "markdown",
   "metadata": {},
   "source": [
    "## Basic Data Exploration\n",
    "This step is performed to guage the overall data. The volume of data, the types of columns present in the data. Initial assessment of the data should be done to identify which columns are Quantitative, Categorical or Qualitative.\n",
    "\n",
    "This step helps to start the column rejection process. You must look at each column carefully and ask, does this column affect the values of the Target variable? For example in this case study, you will ask, <b>does this column affect the survival of the passenger?</b> If the answer is a clear \"No\", then remove the column immediately from the data, otherwise keep the column for further analysis.\n",
    "\n",
    "There are four commands which are used for Basic data exploration in Python\n",
    "* <b>head()</b> : This helps to see a few sample rows of the data\n",
    "* <b>info() </b>: This provides the summarized information of the data\n",
    "* <b>describe() </b>: This provides the descriptive statistical details of the data\n",
    "* <b>nunique()</b>: This helps us to identify if a column is categorical or continuous"
   ]
  },
  {
   "cell_type": "code",
   "execution_count": 5,
   "metadata": {},
   "outputs": [
    {
     "data": {
      "text/html": [
       "<div>\n",
       "<style scoped>\n",
       "    .dataframe tbody tr th:only-of-type {\n",
       "        vertical-align: middle;\n",
       "    }\n",
       "\n",
       "    .dataframe tbody tr th {\n",
       "        vertical-align: top;\n",
       "    }\n",
       "\n",
       "    .dataframe thead th {\n",
       "        text-align: right;\n",
       "    }\n",
       "</style>\n",
       "<table border=\"1\" class=\"dataframe\">\n",
       "  <thead>\n",
       "    <tr style=\"text-align: right;\">\n",
       "      <th></th>\n",
       "      <th>member_id</th>\n",
       "      <th>loan_amnt</th>\n",
       "      <th>funded_amnt</th>\n",
       "      <th>funded_amnt_inv</th>\n",
       "      <th>term</th>\n",
       "      <th>batch_enrolled</th>\n",
       "      <th>int_rate</th>\n",
       "      <th>grade</th>\n",
       "      <th>sub_grade</th>\n",
       "      <th>emp_title</th>\n",
       "      <th>emp_length</th>\n",
       "      <th>home_ownership</th>\n",
       "      <th>annual_inc</th>\n",
       "      <th>verification_status</th>\n",
       "      <th>pymnt_plan</th>\n",
       "      <th>desc</th>\n",
       "      <th>purpose</th>\n",
       "      <th>title</th>\n",
       "      <th>zip_code</th>\n",
       "      <th>addr_state</th>\n",
       "      <th>dti</th>\n",
       "      <th>delinq_2yrs</th>\n",
       "      <th>inq_last_6mths</th>\n",
       "      <th>mths_since_last_delinq</th>\n",
       "      <th>mths_since_last_record</th>\n",
       "      <th>open_acc</th>\n",
       "      <th>pub_rec</th>\n",
       "      <th>revol_bal</th>\n",
       "      <th>revol_util</th>\n",
       "      <th>total_acc</th>\n",
       "      <th>initial_list_status</th>\n",
       "      <th>total_rec_int</th>\n",
       "      <th>total_rec_late_fee</th>\n",
       "      <th>recoveries</th>\n",
       "      <th>collection_recovery_fee</th>\n",
       "      <th>collections_12_mths_ex_med</th>\n",
       "      <th>mths_since_last_major_derog</th>\n",
       "      <th>application_type</th>\n",
       "      <th>verification_status_joint</th>\n",
       "      <th>last_week_pay</th>\n",
       "      <th>acc_now_delinq</th>\n",
       "      <th>tot_coll_amt</th>\n",
       "      <th>tot_cur_bal</th>\n",
       "      <th>total_rev_hi_lim</th>\n",
       "      <th>loan_status</th>\n",
       "    </tr>\n",
       "  </thead>\n",
       "  <tbody>\n",
       "    <tr>\n",
       "      <th>0</th>\n",
       "      <td>58189336</td>\n",
       "      <td>14350</td>\n",
       "      <td>14350</td>\n",
       "      <td>14350.0</td>\n",
       "      <td>36 months</td>\n",
       "      <td></td>\n",
       "      <td>19.19</td>\n",
       "      <td>E</td>\n",
       "      <td>E3</td>\n",
       "      <td>clerk</td>\n",
       "      <td>9 years</td>\n",
       "      <td>OWN</td>\n",
       "      <td>28700.0</td>\n",
       "      <td>Source Verified</td>\n",
       "      <td>n</td>\n",
       "      <td>NaN</td>\n",
       "      <td>debt_consolidation</td>\n",
       "      <td>Debt consolidation</td>\n",
       "      <td>349xx</td>\n",
       "      <td>FL</td>\n",
       "      <td>33.88</td>\n",
       "      <td>0.0</td>\n",
       "      <td>1.0</td>\n",
       "      <td>50.0</td>\n",
       "      <td>75.0</td>\n",
       "      <td>14.0</td>\n",
       "      <td>1.0</td>\n",
       "      <td>22515.0</td>\n",
       "      <td>73.1</td>\n",
       "      <td>28.0</td>\n",
       "      <td>f</td>\n",
       "      <td>1173.84</td>\n",
       "      <td>0.0</td>\n",
       "      <td>0.0</td>\n",
       "      <td>0.0</td>\n",
       "      <td>0.0</td>\n",
       "      <td>74.0</td>\n",
       "      <td>INDIVIDUAL</td>\n",
       "      <td>NaN</td>\n",
       "      <td>26th week</td>\n",
       "      <td>0.0</td>\n",
       "      <td>0.0</td>\n",
       "      <td>28699.0</td>\n",
       "      <td>30800.0</td>\n",
       "      <td>0</td>\n",
       "    </tr>\n",
       "    <tr>\n",
       "      <th>1</th>\n",
       "      <td>70011223</td>\n",
       "      <td>4800</td>\n",
       "      <td>4800</td>\n",
       "      <td>4800.0</td>\n",
       "      <td>36 months</td>\n",
       "      <td>BAT1586599</td>\n",
       "      <td>10.99</td>\n",
       "      <td>B</td>\n",
       "      <td>B4</td>\n",
       "      <td>Human Resources Specialist</td>\n",
       "      <td>&lt; 1 year</td>\n",
       "      <td>MORTGAGE</td>\n",
       "      <td>65000.0</td>\n",
       "      <td>Source Verified</td>\n",
       "      <td>n</td>\n",
       "      <td>NaN</td>\n",
       "      <td>home_improvement</td>\n",
       "      <td>Home improvement</td>\n",
       "      <td>209xx</td>\n",
       "      <td>MD</td>\n",
       "      <td>3.64</td>\n",
       "      <td>0.0</td>\n",
       "      <td>1.0</td>\n",
       "      <td>NaN</td>\n",
       "      <td>NaN</td>\n",
       "      <td>6.0</td>\n",
       "      <td>0.0</td>\n",
       "      <td>7624.0</td>\n",
       "      <td>23.2</td>\n",
       "      <td>13.0</td>\n",
       "      <td>w</td>\n",
       "      <td>83.95</td>\n",
       "      <td>0.0</td>\n",
       "      <td>0.0</td>\n",
       "      <td>0.0</td>\n",
       "      <td>0.0</td>\n",
       "      <td>NaN</td>\n",
       "      <td>INDIVIDUAL</td>\n",
       "      <td>NaN</td>\n",
       "      <td>9th week</td>\n",
       "      <td>0.0</td>\n",
       "      <td>0.0</td>\n",
       "      <td>9974.0</td>\n",
       "      <td>32900.0</td>\n",
       "      <td>0</td>\n",
       "    </tr>\n",
       "    <tr>\n",
       "      <th>2</th>\n",
       "      <td>70255675</td>\n",
       "      <td>10000</td>\n",
       "      <td>10000</td>\n",
       "      <td>10000.0</td>\n",
       "      <td>36 months</td>\n",
       "      <td>BAT1586599</td>\n",
       "      <td>7.26</td>\n",
       "      <td>A</td>\n",
       "      <td>A4</td>\n",
       "      <td>Driver</td>\n",
       "      <td>2 years</td>\n",
       "      <td>OWN</td>\n",
       "      <td>45000.0</td>\n",
       "      <td>Not Verified</td>\n",
       "      <td>n</td>\n",
       "      <td>NaN</td>\n",
       "      <td>debt_consolidation</td>\n",
       "      <td>Debt consolidation</td>\n",
       "      <td>447xx</td>\n",
       "      <td>OH</td>\n",
       "      <td>18.42</td>\n",
       "      <td>0.0</td>\n",
       "      <td>0.0</td>\n",
       "      <td>NaN</td>\n",
       "      <td>NaN</td>\n",
       "      <td>5.0</td>\n",
       "      <td>0.0</td>\n",
       "      <td>10877.0</td>\n",
       "      <td>31.2</td>\n",
       "      <td>19.0</td>\n",
       "      <td>w</td>\n",
       "      <td>56.47</td>\n",
       "      <td>0.0</td>\n",
       "      <td>0.0</td>\n",
       "      <td>0.0</td>\n",
       "      <td>0.0</td>\n",
       "      <td>NaN</td>\n",
       "      <td>INDIVIDUAL</td>\n",
       "      <td>NaN</td>\n",
       "      <td>9th week</td>\n",
       "      <td>0.0</td>\n",
       "      <td>65.0</td>\n",
       "      <td>38295.0</td>\n",
       "      <td>34900.0</td>\n",
       "      <td>0</td>\n",
       "    </tr>\n",
       "    <tr>\n",
       "      <th>3</th>\n",
       "      <td>1893936</td>\n",
       "      <td>15000</td>\n",
       "      <td>15000</td>\n",
       "      <td>15000.0</td>\n",
       "      <td>36 months</td>\n",
       "      <td>BAT4808022</td>\n",
       "      <td>19.72</td>\n",
       "      <td>D</td>\n",
       "      <td>D5</td>\n",
       "      <td>Us office of Personnel Management</td>\n",
       "      <td>10+ years</td>\n",
       "      <td>RENT</td>\n",
       "      <td>105000.0</td>\n",
       "      <td>Not Verified</td>\n",
       "      <td>n</td>\n",
       "      <td>&gt; My goal is to obtain a loan to pay off my hi...</td>\n",
       "      <td>debt_consolidation</td>\n",
       "      <td>Debt consolidation</td>\n",
       "      <td>221xx</td>\n",
       "      <td>VA</td>\n",
       "      <td>14.97</td>\n",
       "      <td>0.0</td>\n",
       "      <td>2.0</td>\n",
       "      <td>46.0</td>\n",
       "      <td>NaN</td>\n",
       "      <td>10.0</td>\n",
       "      <td>0.0</td>\n",
       "      <td>13712.0</td>\n",
       "      <td>55.5</td>\n",
       "      <td>21.0</td>\n",
       "      <td>f</td>\n",
       "      <td>4858.62</td>\n",
       "      <td>0.0</td>\n",
       "      <td>0.0</td>\n",
       "      <td>0.0</td>\n",
       "      <td>0.0</td>\n",
       "      <td>NaN</td>\n",
       "      <td>INDIVIDUAL</td>\n",
       "      <td>NaN</td>\n",
       "      <td>135th week</td>\n",
       "      <td>0.0</td>\n",
       "      <td>0.0</td>\n",
       "      <td>55564.0</td>\n",
       "      <td>24700.0</td>\n",
       "      <td>0</td>\n",
       "    </tr>\n",
       "    <tr>\n",
       "      <th>4</th>\n",
       "      <td>7652106</td>\n",
       "      <td>16000</td>\n",
       "      <td>16000</td>\n",
       "      <td>16000.0</td>\n",
       "      <td>36 months</td>\n",
       "      <td>BAT2833642</td>\n",
       "      <td>10.64</td>\n",
       "      <td>B</td>\n",
       "      <td>B2</td>\n",
       "      <td>LAUSD-HOLLYWOOD HIGH SCHOOL</td>\n",
       "      <td>10+ years</td>\n",
       "      <td>RENT</td>\n",
       "      <td>52000.0</td>\n",
       "      <td>Verified</td>\n",
       "      <td>n</td>\n",
       "      <td>NaN</td>\n",
       "      <td>credit_card</td>\n",
       "      <td>refi</td>\n",
       "      <td>900xx</td>\n",
       "      <td>CA</td>\n",
       "      <td>20.16</td>\n",
       "      <td>0.0</td>\n",
       "      <td>0.0</td>\n",
       "      <td>NaN</td>\n",
       "      <td>NaN</td>\n",
       "      <td>11.0</td>\n",
       "      <td>0.0</td>\n",
       "      <td>35835.0</td>\n",
       "      <td>76.2</td>\n",
       "      <td>27.0</td>\n",
       "      <td>w</td>\n",
       "      <td>2296.41</td>\n",
       "      <td>0.0</td>\n",
       "      <td>0.0</td>\n",
       "      <td>0.0</td>\n",
       "      <td>0.0</td>\n",
       "      <td>NaN</td>\n",
       "      <td>INDIVIDUAL</td>\n",
       "      <td>NaN</td>\n",
       "      <td>96th week</td>\n",
       "      <td>0.0</td>\n",
       "      <td>0.0</td>\n",
       "      <td>47159.0</td>\n",
       "      <td>47033.0</td>\n",
       "      <td>0</td>\n",
       "    </tr>\n",
       "  </tbody>\n",
       "</table>\n",
       "</div>"
      ],
      "text/plain": [
       "   member_id  loan_amnt  funded_amnt  funded_amnt_inv       term  \\\n",
       "0   58189336      14350        14350          14350.0  36 months   \n",
       "1   70011223       4800         4800           4800.0  36 months   \n",
       "2   70255675      10000        10000          10000.0  36 months   \n",
       "3    1893936      15000        15000          15000.0  36 months   \n",
       "4    7652106      16000        16000          16000.0  36 months   \n",
       "\n",
       "  batch_enrolled  int_rate grade sub_grade                          emp_title  \\\n",
       "0                    19.19     E        E3                              clerk   \n",
       "1     BAT1586599     10.99     B        B4         Human Resources Specialist   \n",
       "2     BAT1586599      7.26     A        A4                             Driver   \n",
       "3     BAT4808022     19.72     D        D5  Us office of Personnel Management   \n",
       "4     BAT2833642     10.64     B        B2        LAUSD-HOLLYWOOD HIGH SCHOOL   \n",
       "\n",
       "  emp_length home_ownership  annual_inc verification_status pymnt_plan  \\\n",
       "0    9 years            OWN     28700.0     Source Verified          n   \n",
       "1   < 1 year       MORTGAGE     65000.0     Source Verified          n   \n",
       "2    2 years            OWN     45000.0        Not Verified          n   \n",
       "3  10+ years           RENT    105000.0        Not Verified          n   \n",
       "4  10+ years           RENT     52000.0            Verified          n   \n",
       "\n",
       "                                                desc             purpose  \\\n",
       "0                                                NaN  debt_consolidation   \n",
       "1                                                NaN    home_improvement   \n",
       "2                                                NaN  debt_consolidation   \n",
       "3  > My goal is to obtain a loan to pay off my hi...  debt_consolidation   \n",
       "4                                                NaN         credit_card   \n",
       "\n",
       "                title zip_code addr_state    dti  delinq_2yrs  inq_last_6mths  \\\n",
       "0  Debt consolidation    349xx         FL  33.88          0.0             1.0   \n",
       "1    Home improvement    209xx         MD   3.64          0.0             1.0   \n",
       "2  Debt consolidation    447xx         OH  18.42          0.0             0.0   \n",
       "3  Debt consolidation    221xx         VA  14.97          0.0             2.0   \n",
       "4                refi    900xx         CA  20.16          0.0             0.0   \n",
       "\n",
       "   mths_since_last_delinq  mths_since_last_record  open_acc  pub_rec  \\\n",
       "0                    50.0                    75.0      14.0      1.0   \n",
       "1                     NaN                     NaN       6.0      0.0   \n",
       "2                     NaN                     NaN       5.0      0.0   \n",
       "3                    46.0                     NaN      10.0      0.0   \n",
       "4                     NaN                     NaN      11.0      0.0   \n",
       "\n",
       "   revol_bal  revol_util  total_acc initial_list_status  total_rec_int  \\\n",
       "0    22515.0        73.1       28.0                   f        1173.84   \n",
       "1     7624.0        23.2       13.0                   w          83.95   \n",
       "2    10877.0        31.2       19.0                   w          56.47   \n",
       "3    13712.0        55.5       21.0                   f        4858.62   \n",
       "4    35835.0        76.2       27.0                   w        2296.41   \n",
       "\n",
       "   total_rec_late_fee  recoveries  collection_recovery_fee  \\\n",
       "0                 0.0         0.0                      0.0   \n",
       "1                 0.0         0.0                      0.0   \n",
       "2                 0.0         0.0                      0.0   \n",
       "3                 0.0         0.0                      0.0   \n",
       "4                 0.0         0.0                      0.0   \n",
       "\n",
       "   collections_12_mths_ex_med  mths_since_last_major_derog application_type  \\\n",
       "0                         0.0                         74.0       INDIVIDUAL   \n",
       "1                         0.0                          NaN       INDIVIDUAL   \n",
       "2                         0.0                          NaN       INDIVIDUAL   \n",
       "3                         0.0                          NaN       INDIVIDUAL   \n",
       "4                         0.0                          NaN       INDIVIDUAL   \n",
       "\n",
       "  verification_status_joint last_week_pay  acc_now_delinq  tot_coll_amt  \\\n",
       "0                       NaN     26th week             0.0           0.0   \n",
       "1                       NaN      9th week             0.0           0.0   \n",
       "2                       NaN      9th week             0.0          65.0   \n",
       "3                       NaN    135th week             0.0           0.0   \n",
       "4                       NaN     96th week             0.0           0.0   \n",
       "\n",
       "   tot_cur_bal  total_rev_hi_lim  loan_status  \n",
       "0      28699.0           30800.0            0  \n",
       "1       9974.0           32900.0            0  \n",
       "2      38295.0           34900.0            0  \n",
       "3      55564.0           24700.0            0  \n",
       "4      47159.0           47033.0            0  "
      ]
     },
     "execution_count": 5,
     "metadata": {},
     "output_type": "execute_result"
    }
   ],
   "source": [
    "train.head()"
   ]
  },
  {
   "cell_type": "code",
   "execution_count": 6,
   "metadata": {},
   "outputs": [
    {
     "name": "stdout",
     "output_type": "stream",
     "text": [
      "Shape before deleting duplicate values: (532428, 45)\n",
      "Shape After deleting duplicate values: (532428, 45)\n"
     ]
    }
   ],
   "source": [
    "print('Shape before deleting duplicate values:', train.shape)\n",
    "\n",
    "# Removing duplicate rows if any\n",
    "train = train.drop_duplicates()\n",
    "print('Shape After deleting duplicate values:', train.shape)\n"
   ]
  },
  {
   "cell_type": "markdown",
   "metadata": {},
   "source": [
    "### Checking concise summary of dataset\n",
    "To know the features and their corresponding data types, along with finding whether they contain null values or not."
   ]
  },
  {
   "cell_type": "code",
   "execution_count": 7,
   "metadata": {},
   "outputs": [
    {
     "name": "stdout",
     "output_type": "stream",
     "text": [
      "<class 'pandas.core.frame.DataFrame'>\n",
      "Int64Index: 532428 entries, 0 to 532427\n",
      "Data columns (total 45 columns):\n",
      " #   Column                       Non-Null Count   Dtype  \n",
      "---  ------                       --------------   -----  \n",
      " 0   member_id                    532428 non-null  int64  \n",
      " 1   loan_amnt                    532428 non-null  int64  \n",
      " 2   funded_amnt                  532428 non-null  int64  \n",
      " 3   funded_amnt_inv              532428 non-null  float64\n",
      " 4   term                         532428 non-null  object \n",
      " 5   batch_enrolled               447279 non-null  object \n",
      " 6   int_rate                     532428 non-null  float64\n",
      " 7   grade                        532428 non-null  object \n",
      " 8   sub_grade                    532428 non-null  object \n",
      " 9   emp_title                    501595 non-null  object \n",
      " 10  emp_length                   505537 non-null  object \n",
      " 11  home_ownership               532428 non-null  object \n",
      " 12  annual_inc                   532425 non-null  float64\n",
      " 13  verification_status          532428 non-null  object \n",
      " 14  pymnt_plan                   532428 non-null  object \n",
      " 15  desc                         75599 non-null   object \n",
      " 16  purpose                      532428 non-null  object \n",
      " 17  title                        532338 non-null  object \n",
      " 18  zip_code                     532428 non-null  object \n",
      " 19  addr_state                   532428 non-null  object \n",
      " 20  dti                          532428 non-null  float64\n",
      " 21  delinq_2yrs                  532412 non-null  float64\n",
      " 22  inq_last_6mths               532412 non-null  float64\n",
      " 23  mths_since_last_delinq       259874 non-null  float64\n",
      " 24  mths_since_last_record       82123 non-null   float64\n",
      " 25  open_acc                     532412 non-null  float64\n",
      " 26  pub_rec                      532412 non-null  float64\n",
      " 27  revol_bal                    532428 non-null  float64\n",
      " 28  revol_util                   532141 non-null  float64\n",
      " 29  total_acc                    532412 non-null  float64\n",
      " 30  initial_list_status          532428 non-null  object \n",
      " 31  total_rec_int                532428 non-null  float64\n",
      " 32  total_rec_late_fee           532428 non-null  float64\n",
      " 33  recoveries                   532428 non-null  float64\n",
      " 34  collection_recovery_fee      532428 non-null  float64\n",
      " 35  collections_12_mths_ex_med   532333 non-null  float64\n",
      " 36  mths_since_last_major_derog  132980 non-null  float64\n",
      " 37  application_type             532428 non-null  object \n",
      " 38  verification_status_joint    305 non-null     object \n",
      " 39  last_week_pay                532428 non-null  object \n",
      " 40  acc_now_delinq               532412 non-null  float64\n",
      " 41  tot_coll_amt                 490424 non-null  float64\n",
      " 42  tot_cur_bal                  490424 non-null  float64\n",
      " 43  total_rev_hi_lim             490424 non-null  float64\n",
      " 44  loan_status                  532428 non-null  int64  \n",
      "dtypes: float64(23), int64(4), object(18)\n",
      "memory usage: 186.9+ MB\n"
     ]
    }
   ],
   "source": [
    "# Observing the summarized information of data\n",
    "# Data types, Missing values based on number of non-null values Vs total rows etc.\n",
    "# Remove those variables from data which have too many missing values (Missing Values > 30%)\n",
    "# Remove Qualitative variables which cannot be used in Machine Learning\n",
    "train.info()"
   ]
  },
  {
   "cell_type": "code",
   "execution_count": 8,
   "metadata": {},
   "outputs": [
    {
     "name": "stdout",
     "output_type": "stream",
     "text": [
      "<class 'pandas.core.frame.DataFrame'>\n",
      "RangeIndex: 354951 entries, 0 to 354950\n",
      "Data columns (total 44 columns):\n",
      " #   Column                       Non-Null Count   Dtype  \n",
      "---  ------                       --------------   -----  \n",
      " 0   member_id                    354951 non-null  int64  \n",
      " 1   loan_amnt                    354951 non-null  int64  \n",
      " 2   funded_amnt                  354951 non-null  int64  \n",
      " 3   funded_amnt_inv              354951 non-null  float64\n",
      " 4   term                         354951 non-null  object \n",
      " 5   batch_enrolled               309352 non-null  object \n",
      " 6   int_rate                     354951 non-null  float64\n",
      " 7   grade                        354951 non-null  object \n",
      " 8   sub_grade                    354951 non-null  object \n",
      " 9   emp_title                    334322 non-null  object \n",
      " 10  emp_length                   337017 non-null  object \n",
      " 11  home_ownership               354951 non-null  object \n",
      " 12  annual_inc                   354950 non-null  float64\n",
      " 13  verification_status          354951 non-null  object \n",
      " 14  pymnt_plan                   354951 non-null  object \n",
      " 15  desc                         50181 non-null   object \n",
      " 16  purpose                      354951 non-null  object \n",
      " 17  title                        354889 non-null  object \n",
      " 18  zip_code                     354951 non-null  object \n",
      " 19  addr_state                   354951 non-null  object \n",
      " 20  dti                          354951 non-null  float64\n",
      " 21  delinq_2yrs                  354938 non-null  float64\n",
      " 22  inq_last_6mths               354938 non-null  float64\n",
      " 23  mths_since_last_delinq       173193 non-null  float64\n",
      " 24  mths_since_last_record       54930 non-null   float64\n",
      " 25  open_acc                     354938 non-null  float64\n",
      " 26  pub_rec                      354938 non-null  float64\n",
      " 27  revol_bal                    354951 non-null  int64  \n",
      " 28  revol_util                   354736 non-null  float64\n",
      " 29  total_acc                    354938 non-null  float64\n",
      " 30  initial_list_status          354951 non-null  object \n",
      " 31  total_rec_int                354951 non-null  float64\n",
      " 32  total_rec_late_fee           354951 non-null  float64\n",
      " 33  recoveries                   354951 non-null  float64\n",
      " 34  collection_recovery_fee      354951 non-null  float64\n",
      " 35  collections_12_mths_ex_med   354901 non-null  float64\n",
      " 36  mths_since_last_major_derog  88723 non-null   float64\n",
      " 37  application_type             354951 non-null  object \n",
      " 38  verification_status_joint    206 non-null     object \n",
      " 39  last_week_pay                354951 non-null  object \n",
      " 40  acc_now_delinq               354938 non-null  float64\n",
      " 41  tot_coll_amt                 326679 non-null  float64\n",
      " 42  tot_cur_bal                  326679 non-null  float64\n",
      " 43  total_rev_hi_lim             326679 non-null  float64\n",
      "dtypes: float64(22), int64(4), object(18)\n",
      "memory usage: 119.2+ MB\n"
     ]
    }
   ],
   "source": [
    "test.info()"
   ]
  },
  {
   "cell_type": "markdown",
   "metadata": {},
   "source": [
    "## Columns Names Meaning:\n",
    "\n",
    "* **dti** - debt-to-income ratio - Ratio of member's total monthly debt, repayment excluding mortgage divided by self, reported monthly income. Borrowers with a higher debt-to-income ratio are more likely to run into trouble making monthly payments. \n",
    "\n",
    "* **delinq_2yrs** - number of 30+ days delinquency in last 2 years - Credit card delinquency occurs when a cardholder falls behind on making required monthly payments. 30 days late is generally considered delinquent.\n",
    "\n",
    "* **open_acc** - number of open credit line in member's credit line- A line of credit (LOC) is a preset borrowing limit that can be used at any time. The borrower can take money out as needed until the limit is reached, and as money is repaid, it can be borrowed again in the case of an open line of credit. An open credit is a financial arrangement between a lender and a borrower that allows the latter to access credit repeatedly up to a specific maximum limit. Once the borrower starts making repayments to the account, the money becomes available for withdrawal again since it is a revolving fund. \n",
    "\n",
    "* **pub_rec** - number of derogatory public records - A derogatory item is an entry that may be considered negative by lenders because it indicates risk and hurts borrower ability to qualify for credit or other services. Public records and collections are derogatory items because they reflect financial obligations that were not paid as agreed.\n",
    "\n",
    "* **revol_bal** - total credit revolving balance - In credit card terms, a revolving balance is the portion of credit card spending that goes unpaid at the end of a billing cycle.\n",
    "\n",
    "* **revol_util** - amount of credit a member is using relative to revol_bal\n",
    "\n",
    "* **total_acc** - total number of credit lines available in members credit line"
   ]
  },
  {
   "cell_type": "code",
   "execution_count": 9,
   "metadata": {},
   "outputs": [
    {
     "data": {
      "text/html": [
       "<div>\n",
       "<style scoped>\n",
       "    .dataframe tbody tr th:only-of-type {\n",
       "        vertical-align: middle;\n",
       "    }\n",
       "\n",
       "    .dataframe tbody tr th {\n",
       "        vertical-align: top;\n",
       "    }\n",
       "\n",
       "    .dataframe thead th {\n",
       "        text-align: right;\n",
       "    }\n",
       "</style>\n",
       "<table border=\"1\" class=\"dataframe\">\n",
       "  <thead>\n",
       "    <tr style=\"text-align: right;\">\n",
       "      <th></th>\n",
       "      <th>count</th>\n",
       "      <th>mean</th>\n",
       "      <th>std</th>\n",
       "      <th>min</th>\n",
       "      <th>25%</th>\n",
       "      <th>50%</th>\n",
       "      <th>75%</th>\n",
       "      <th>max</th>\n",
       "    </tr>\n",
       "  </thead>\n",
       "  <tbody>\n",
       "    <tr>\n",
       "      <th>member_id</th>\n",
       "      <td>532428.0</td>\n",
       "      <td>3.500547e+07</td>\n",
       "      <td>2.412148e+07</td>\n",
       "      <td>70473.00</td>\n",
       "      <td>10866882.50</td>\n",
       "      <td>37095895.00</td>\n",
       "      <td>5.848920e+07</td>\n",
       "      <td>73544841.00</td>\n",
       "    </tr>\n",
       "    <tr>\n",
       "      <th>loan_amnt</th>\n",
       "      <td>532428.0</td>\n",
       "      <td>1.475760e+04</td>\n",
       "      <td>8.434420e+03</td>\n",
       "      <td>500.00</td>\n",
       "      <td>8000.00</td>\n",
       "      <td>13000.00</td>\n",
       "      <td>2.000000e+04</td>\n",
       "      <td>35000.00</td>\n",
       "    </tr>\n",
       "    <tr>\n",
       "      <th>funded_amnt</th>\n",
       "      <td>532428.0</td>\n",
       "      <td>1.474427e+04</td>\n",
       "      <td>8.429139e+03</td>\n",
       "      <td>500.00</td>\n",
       "      <td>8000.00</td>\n",
       "      <td>13000.00</td>\n",
       "      <td>2.000000e+04</td>\n",
       "      <td>35000.00</td>\n",
       "    </tr>\n",
       "    <tr>\n",
       "      <th>funded_amnt_inv</th>\n",
       "      <td>532428.0</td>\n",
       "      <td>1.470493e+04</td>\n",
       "      <td>8.441290e+03</td>\n",
       "      <td>0.00</td>\n",
       "      <td>8000.00</td>\n",
       "      <td>13000.00</td>\n",
       "      <td>2.000000e+04</td>\n",
       "      <td>35000.00</td>\n",
       "    </tr>\n",
       "    <tr>\n",
       "      <th>int_rate</th>\n",
       "      <td>532428.0</td>\n",
       "      <td>1.324297e+01</td>\n",
       "      <td>4.379611e+00</td>\n",
       "      <td>5.32</td>\n",
       "      <td>9.99</td>\n",
       "      <td>12.99</td>\n",
       "      <td>1.620000e+01</td>\n",
       "      <td>28.99</td>\n",
       "    </tr>\n",
       "    <tr>\n",
       "      <th>annual_inc</th>\n",
       "      <td>532425.0</td>\n",
       "      <td>7.502984e+04</td>\n",
       "      <td>6.519985e+04</td>\n",
       "      <td>1200.00</td>\n",
       "      <td>45000.00</td>\n",
       "      <td>65000.00</td>\n",
       "      <td>9.000000e+04</td>\n",
       "      <td>9500000.00</td>\n",
       "    </tr>\n",
       "    <tr>\n",
       "      <th>dti</th>\n",
       "      <td>532428.0</td>\n",
       "      <td>1.813877e+01</td>\n",
       "      <td>8.369074e+00</td>\n",
       "      <td>0.00</td>\n",
       "      <td>11.93</td>\n",
       "      <td>17.65</td>\n",
       "      <td>2.395000e+01</td>\n",
       "      <td>672.52</td>\n",
       "    </tr>\n",
       "    <tr>\n",
       "      <th>delinq_2yrs</th>\n",
       "      <td>532412.0</td>\n",
       "      <td>3.144482e-01</td>\n",
       "      <td>8.600449e-01</td>\n",
       "      <td>0.00</td>\n",
       "      <td>0.00</td>\n",
       "      <td>0.00</td>\n",
       "      <td>0.000000e+00</td>\n",
       "      <td>30.00</td>\n",
       "    </tr>\n",
       "    <tr>\n",
       "      <th>inq_last_6mths</th>\n",
       "      <td>532412.0</td>\n",
       "      <td>6.946031e-01</td>\n",
       "      <td>9.970255e-01</td>\n",
       "      <td>0.00</td>\n",
       "      <td>0.00</td>\n",
       "      <td>0.00</td>\n",
       "      <td>1.000000e+00</td>\n",
       "      <td>31.00</td>\n",
       "    </tr>\n",
       "    <tr>\n",
       "      <th>mths_since_last_delinq</th>\n",
       "      <td>259874.0</td>\n",
       "      <td>3.405573e+01</td>\n",
       "      <td>2.188480e+01</td>\n",
       "      <td>0.00</td>\n",
       "      <td>15.00</td>\n",
       "      <td>31.00</td>\n",
       "      <td>5.000000e+01</td>\n",
       "      <td>180.00</td>\n",
       "    </tr>\n",
       "    <tr>\n",
       "      <th>mths_since_last_record</th>\n",
       "      <td>82123.0</td>\n",
       "      <td>7.009307e+01</td>\n",
       "      <td>2.813922e+01</td>\n",
       "      <td>0.00</td>\n",
       "      <td>51.00</td>\n",
       "      <td>70.00</td>\n",
       "      <td>9.200000e+01</td>\n",
       "      <td>121.00</td>\n",
       "    </tr>\n",
       "    <tr>\n",
       "      <th>open_acc</th>\n",
       "      <td>532412.0</td>\n",
       "      <td>1.154559e+01</td>\n",
       "      <td>5.311442e+00</td>\n",
       "      <td>0.00</td>\n",
       "      <td>8.00</td>\n",
       "      <td>11.00</td>\n",
       "      <td>1.400000e+01</td>\n",
       "      <td>90.00</td>\n",
       "    </tr>\n",
       "    <tr>\n",
       "      <th>pub_rec</th>\n",
       "      <td>532412.0</td>\n",
       "      <td>1.948585e-01</td>\n",
       "      <td>5.838222e-01</td>\n",
       "      <td>0.00</td>\n",
       "      <td>0.00</td>\n",
       "      <td>0.00</td>\n",
       "      <td>0.000000e+00</td>\n",
       "      <td>86.00</td>\n",
       "    </tr>\n",
       "    <tr>\n",
       "      <th>revol_bal</th>\n",
       "      <td>532428.0</td>\n",
       "      <td>1.692128e+04</td>\n",
       "      <td>2.242322e+04</td>\n",
       "      <td>0.00</td>\n",
       "      <td>6444.00</td>\n",
       "      <td>11876.00</td>\n",
       "      <td>2.084300e+04</td>\n",
       "      <td>2568995.00</td>\n",
       "    </tr>\n",
       "    <tr>\n",
       "      <th>revol_util</th>\n",
       "      <td>532141.0</td>\n",
       "      <td>5.505719e+01</td>\n",
       "      <td>2.385344e+01</td>\n",
       "      <td>0.00</td>\n",
       "      <td>37.70</td>\n",
       "      <td>56.00</td>\n",
       "      <td>7.360000e+01</td>\n",
       "      <td>892.30</td>\n",
       "    </tr>\n",
       "    <tr>\n",
       "      <th>total_acc</th>\n",
       "      <td>532412.0</td>\n",
       "      <td>2.526736e+01</td>\n",
       "      <td>1.184321e+01</td>\n",
       "      <td>1.00</td>\n",
       "      <td>17.00</td>\n",
       "      <td>24.00</td>\n",
       "      <td>3.200000e+01</td>\n",
       "      <td>162.00</td>\n",
       "    </tr>\n",
       "    <tr>\n",
       "      <th>total_rec_int</th>\n",
       "      <td>532428.0</td>\n",
       "      <td>1.753429e+03</td>\n",
       "      <td>2.093200e+03</td>\n",
       "      <td>0.00</td>\n",
       "      <td>441.60</td>\n",
       "      <td>1072.69</td>\n",
       "      <td>2.234735e+03</td>\n",
       "      <td>24205.62</td>\n",
       "    </tr>\n",
       "    <tr>\n",
       "      <th>total_rec_late_fee</th>\n",
       "      <td>532428.0</td>\n",
       "      <td>3.949535e-01</td>\n",
       "      <td>4.091546e+00</td>\n",
       "      <td>0.00</td>\n",
       "      <td>0.00</td>\n",
       "      <td>0.00</td>\n",
       "      <td>0.000000e+00</td>\n",
       "      <td>358.68</td>\n",
       "    </tr>\n",
       "    <tr>\n",
       "      <th>recoveries</th>\n",
       "      <td>532428.0</td>\n",
       "      <td>4.571783e+01</td>\n",
       "      <td>4.096475e+02</td>\n",
       "      <td>0.00</td>\n",
       "      <td>0.00</td>\n",
       "      <td>0.00</td>\n",
       "      <td>0.000000e+00</td>\n",
       "      <td>33520.27</td>\n",
       "    </tr>\n",
       "    <tr>\n",
       "      <th>collection_recovery_fee</th>\n",
       "      <td>532428.0</td>\n",
       "      <td>4.859221e+00</td>\n",
       "      <td>6.312336e+01</td>\n",
       "      <td>0.00</td>\n",
       "      <td>0.00</td>\n",
       "      <td>0.00</td>\n",
       "      <td>0.000000e+00</td>\n",
       "      <td>7002.19</td>\n",
       "    </tr>\n",
       "    <tr>\n",
       "      <th>collections_12_mths_ex_med</th>\n",
       "      <td>532333.0</td>\n",
       "      <td>1.429932e-02</td>\n",
       "      <td>1.330052e-01</td>\n",
       "      <td>0.00</td>\n",
       "      <td>0.00</td>\n",
       "      <td>0.00</td>\n",
       "      <td>0.000000e+00</td>\n",
       "      <td>16.00</td>\n",
       "    </tr>\n",
       "    <tr>\n",
       "      <th>mths_since_last_major_derog</th>\n",
       "      <td>132980.0</td>\n",
       "      <td>4.412146e+01</td>\n",
       "      <td>2.219841e+01</td>\n",
       "      <td>0.00</td>\n",
       "      <td>27.00</td>\n",
       "      <td>44.00</td>\n",
       "      <td>6.100000e+01</td>\n",
       "      <td>180.00</td>\n",
       "    </tr>\n",
       "    <tr>\n",
       "      <th>acc_now_delinq</th>\n",
       "      <td>532412.0</td>\n",
       "      <td>5.014913e-03</td>\n",
       "      <td>7.911681e-02</td>\n",
       "      <td>0.00</td>\n",
       "      <td>0.00</td>\n",
       "      <td>0.00</td>\n",
       "      <td>0.000000e+00</td>\n",
       "      <td>14.00</td>\n",
       "    </tr>\n",
       "    <tr>\n",
       "      <th>tot_coll_amt</th>\n",
       "      <td>490424.0</td>\n",
       "      <td>2.135622e+02</td>\n",
       "      <td>1.958572e+03</td>\n",
       "      <td>0.00</td>\n",
       "      <td>0.00</td>\n",
       "      <td>0.00</td>\n",
       "      <td>0.000000e+00</td>\n",
       "      <td>496651.00</td>\n",
       "    </tr>\n",
       "    <tr>\n",
       "      <th>tot_cur_bal</th>\n",
       "      <td>490424.0</td>\n",
       "      <td>1.395541e+05</td>\n",
       "      <td>1.539149e+05</td>\n",
       "      <td>0.00</td>\n",
       "      <td>29839.75</td>\n",
       "      <td>80669.50</td>\n",
       "      <td>2.084792e+05</td>\n",
       "      <td>8000078.00</td>\n",
       "    </tr>\n",
       "    <tr>\n",
       "      <th>total_rev_hi_lim</th>\n",
       "      <td>490424.0</td>\n",
       "      <td>3.208057e+04</td>\n",
       "      <td>3.805304e+04</td>\n",
       "      <td>0.00</td>\n",
       "      <td>14000.00</td>\n",
       "      <td>23700.00</td>\n",
       "      <td>3.980000e+04</td>\n",
       "      <td>9999999.00</td>\n",
       "    </tr>\n",
       "    <tr>\n",
       "      <th>loan_status</th>\n",
       "      <td>532428.0</td>\n",
       "      <td>2.363268e-01</td>\n",
       "      <td>4.248256e-01</td>\n",
       "      <td>0.00</td>\n",
       "      <td>0.00</td>\n",
       "      <td>0.00</td>\n",
       "      <td>0.000000e+00</td>\n",
       "      <td>1.00</td>\n",
       "    </tr>\n",
       "  </tbody>\n",
       "</table>\n",
       "</div>"
      ],
      "text/plain": [
       "                                count          mean           std       min  \\\n",
       "member_id                    532428.0  3.500547e+07  2.412148e+07  70473.00   \n",
       "loan_amnt                    532428.0  1.475760e+04  8.434420e+03    500.00   \n",
       "funded_amnt                  532428.0  1.474427e+04  8.429139e+03    500.00   \n",
       "funded_amnt_inv              532428.0  1.470493e+04  8.441290e+03      0.00   \n",
       "int_rate                     532428.0  1.324297e+01  4.379611e+00      5.32   \n",
       "annual_inc                   532425.0  7.502984e+04  6.519985e+04   1200.00   \n",
       "dti                          532428.0  1.813877e+01  8.369074e+00      0.00   \n",
       "delinq_2yrs                  532412.0  3.144482e-01  8.600449e-01      0.00   \n",
       "inq_last_6mths               532412.0  6.946031e-01  9.970255e-01      0.00   \n",
       "mths_since_last_delinq       259874.0  3.405573e+01  2.188480e+01      0.00   \n",
       "mths_since_last_record        82123.0  7.009307e+01  2.813922e+01      0.00   \n",
       "open_acc                     532412.0  1.154559e+01  5.311442e+00      0.00   \n",
       "pub_rec                      532412.0  1.948585e-01  5.838222e-01      0.00   \n",
       "revol_bal                    532428.0  1.692128e+04  2.242322e+04      0.00   \n",
       "revol_util                   532141.0  5.505719e+01  2.385344e+01      0.00   \n",
       "total_acc                    532412.0  2.526736e+01  1.184321e+01      1.00   \n",
       "total_rec_int                532428.0  1.753429e+03  2.093200e+03      0.00   \n",
       "total_rec_late_fee           532428.0  3.949535e-01  4.091546e+00      0.00   \n",
       "recoveries                   532428.0  4.571783e+01  4.096475e+02      0.00   \n",
       "collection_recovery_fee      532428.0  4.859221e+00  6.312336e+01      0.00   \n",
       "collections_12_mths_ex_med   532333.0  1.429932e-02  1.330052e-01      0.00   \n",
       "mths_since_last_major_derog  132980.0  4.412146e+01  2.219841e+01      0.00   \n",
       "acc_now_delinq               532412.0  5.014913e-03  7.911681e-02      0.00   \n",
       "tot_coll_amt                 490424.0  2.135622e+02  1.958572e+03      0.00   \n",
       "tot_cur_bal                  490424.0  1.395541e+05  1.539149e+05      0.00   \n",
       "total_rev_hi_lim             490424.0  3.208057e+04  3.805304e+04      0.00   \n",
       "loan_status                  532428.0  2.363268e-01  4.248256e-01      0.00   \n",
       "\n",
       "                                     25%          50%           75%  \\\n",
       "member_id                    10866882.50  37095895.00  5.848920e+07   \n",
       "loan_amnt                        8000.00     13000.00  2.000000e+04   \n",
       "funded_amnt                      8000.00     13000.00  2.000000e+04   \n",
       "funded_amnt_inv                  8000.00     13000.00  2.000000e+04   \n",
       "int_rate                            9.99        12.99  1.620000e+01   \n",
       "annual_inc                      45000.00     65000.00  9.000000e+04   \n",
       "dti                                11.93        17.65  2.395000e+01   \n",
       "delinq_2yrs                         0.00         0.00  0.000000e+00   \n",
       "inq_last_6mths                      0.00         0.00  1.000000e+00   \n",
       "mths_since_last_delinq             15.00        31.00  5.000000e+01   \n",
       "mths_since_last_record             51.00        70.00  9.200000e+01   \n",
       "open_acc                            8.00        11.00  1.400000e+01   \n",
       "pub_rec                             0.00         0.00  0.000000e+00   \n",
       "revol_bal                        6444.00     11876.00  2.084300e+04   \n",
       "revol_util                         37.70        56.00  7.360000e+01   \n",
       "total_acc                          17.00        24.00  3.200000e+01   \n",
       "total_rec_int                     441.60      1072.69  2.234735e+03   \n",
       "total_rec_late_fee                  0.00         0.00  0.000000e+00   \n",
       "recoveries                          0.00         0.00  0.000000e+00   \n",
       "collection_recovery_fee             0.00         0.00  0.000000e+00   \n",
       "collections_12_mths_ex_med          0.00         0.00  0.000000e+00   \n",
       "mths_since_last_major_derog        27.00        44.00  6.100000e+01   \n",
       "acc_now_delinq                      0.00         0.00  0.000000e+00   \n",
       "tot_coll_amt                        0.00         0.00  0.000000e+00   \n",
       "tot_cur_bal                     29839.75     80669.50  2.084792e+05   \n",
       "total_rev_hi_lim                14000.00     23700.00  3.980000e+04   \n",
       "loan_status                         0.00         0.00  0.000000e+00   \n",
       "\n",
       "                                     max  \n",
       "member_id                    73544841.00  \n",
       "loan_amnt                       35000.00  \n",
       "funded_amnt                     35000.00  \n",
       "funded_amnt_inv                 35000.00  \n",
       "int_rate                           28.99  \n",
       "annual_inc                    9500000.00  \n",
       "dti                               672.52  \n",
       "delinq_2yrs                        30.00  \n",
       "inq_last_6mths                     31.00  \n",
       "mths_since_last_delinq            180.00  \n",
       "mths_since_last_record            121.00  \n",
       "open_acc                           90.00  \n",
       "pub_rec                            86.00  \n",
       "revol_bal                     2568995.00  \n",
       "revol_util                        892.30  \n",
       "total_acc                         162.00  \n",
       "total_rec_int                   24205.62  \n",
       "total_rec_late_fee                358.68  \n",
       "recoveries                      33520.27  \n",
       "collection_recovery_fee          7002.19  \n",
       "collections_12_mths_ex_med         16.00  \n",
       "mths_since_last_major_derog       180.00  \n",
       "acc_now_delinq                     14.00  \n",
       "tot_coll_amt                   496651.00  \n",
       "tot_cur_bal                   8000078.00  \n",
       "total_rev_hi_lim              9999999.00  \n",
       "loan_status                         1.00  "
      ]
     },
     "execution_count": 9,
     "metadata": {},
     "output_type": "execute_result"
    }
   ],
   "source": [
    "train.describe().T"
   ]
  },
  {
   "cell_type": "markdown",
   "metadata": {},
   "source": [
    "## Looking at the distribution of Target variable\n",
    "* If target variable's distribution is too skewed then the predictive modeling will not be possible.\n",
    "* Bell curve is desirable but slightly positive skew or negative skew is also fine\n",
    "* When performing Classification, make sure there is a balance in the the distribution of each class otherwise it impacts the Machine Learning algorithms ability to learn all the classes"
   ]
  },
  {
   "cell_type": "code",
   "execution_count": 10,
   "metadata": {},
   "outputs": [
    {
     "name": "stdout",
     "output_type": "stream",
     "text": [
      "0    406601\n",
      "1    125827\n",
      "Name: loan_status, dtype: int64\n",
      "\n",
      "\n",
      "0    0.763673\n",
      "1    0.236327\n",
      "Name: loan_status, dtype: float64\n"
     ]
    },
    {
     "data": {
      "image/png": "[encoded data removed]",
      "text/plain": [
       "<Figure size 432x288 with 1 Axes>"
      ]
     },
     "metadata": {},
     "output_type": "display_data"
    }
   ],
   "source": [
    "print(train['loan_status'].value_counts())\n",
    "print('\\n')\n",
    "print(train['loan_status'].value_counts(normalize=True))\n",
    "\n",
    "# train['loan_status'].value_counts().plot(kind = 'pie',explode=[0, 0.1],figsize=(6, 6),autopct='%1.1f%%',shadow=True)\n",
    "# plt.title(\"Defaulter and Non-Defaulter Distribution\",fontsize=20)\n",
    "# plt.legend([\"Defaulter\", \"Non-Defaulter\"])\n",
    "# plt.show()\n",
    "\n",
    "# # Looking at the distribution of Target variable\n",
    "# * When performing Classification, make sure there is a balance in the the distribution of each class \n",
    "# otherwise it impacts the Machine Learning algorithms ability to learn all the classes\n",
    "\n",
    "# Creating Bar chart as the Target variable is Categorical\n",
    "GroupedData = train.groupby('loan_status').size()\n",
    "GroupedData.plot(kind='bar', figsize=(6,4));"
   ]
  },
  {
   "cell_type": "markdown",
   "metadata": {},
   "source": [
    "# concatenate train and test set"
   ]
  },
  {
   "cell_type": "code",
   "execution_count": 11,
   "metadata": {},
   "outputs": [],
   "source": [
    "# concatenate train and test set\n",
    "train['TrainTest'] = 1\n",
    "test['TrainTest'] = 0\n",
    "test['loan_status'] = 3\n",
    "data = pd.concat([train,test])\n",
    "data.reset_index(inplace = True , drop = True)"
   ]
  },
  {
   "cell_type": "code",
   "execution_count": 12,
   "metadata": {},
   "outputs": [],
   "source": [
    "# # Relationship between applied loan amount vs sanctioned amount by bank vs sanctioned by investor\n",
    "# plt.figure(figsize=(12,10))\n",
    "# sns.scatterplot(x='loan_amnt', y='funded_amnt', hue='funded_amnt_inv', data=train);"
   ]
  },
  {
   "cell_type": "code",
   "execution_count": 13,
   "metadata": {},
   "outputs": [],
   "source": [
    "# Extract number from column 'last_week_pay' and 'term'\n",
    "data['last_week_pay'] = data['last_week_pay'].str.extract(r'([\\d]+)',expand=False)\n",
    "data['term'] = data['term'].str.extract(r'([\\d]+)',expand=False)\n",
    "data['emp_length'] = data['emp_length'].str.extract(r'([\\d]+)',expand=False)"
   ]
  },
  {
   "cell_type": "markdown",
   "metadata": {},
   "source": [
    "## Removing useless columns from the data\n",
    "\n",
    "Deleting those columns which are not useful in predictive analysis because these variables are qualitative"
   ]
  },
  {
   "cell_type": "code",
   "execution_count": 14,
   "metadata": {},
   "outputs": [
    {
     "name": "stdout",
     "output_type": "stream",
     "text": [
      "(887379, 37)\n"
     ]
    }
   ],
   "source": [
    "useless_predictor = ['batch_enrolled','zip_code','title','purpose','emp_title','grade',\n",
    "                  'sub_grade','addr_state','inq_last_6mths']\n",
    "\n",
    "## Deleting those columns which are not useful in predictive analysis because these variables are qualitative\n",
    "\n",
    "data = data.drop(useless_predictor,axis=1)\n",
    "print(data.shape)"
   ]
  },
  {
   "cell_type": "markdown",
   "metadata": {},
   "source": [
    "# Missing values treatment\n",
    "Missing values are treated for each column separately.\n",
    "\n",
    "If a column has more than 30% data missing, then missing value treatment cannot be done. That column must be rejected because too much information is missing.\n",
    "\n",
    "There are below options for treating missing values in data.\n",
    "\n",
    "* Delete the missing value rows if there are only few records\n",
    "* Impute the missing values with MEDIAN value for continuous variables\n",
    "* Impute the missing values with MODE value for categorical variables\n",
    "* Interpolate the values based on nearby values\n",
    "* Interpolate the values based on business logic"
   ]
  },
  {
   "cell_type": "code",
   "execution_count": 15,
   "metadata": {},
   "outputs": [
    {
     "data": {
      "text/html": [
       "<div>\n",
       "<style scoped>\n",
       "    .dataframe tbody tr th:only-of-type {\n",
       "        vertical-align: middle;\n",
       "    }\n",
       "\n",
       "    .dataframe tbody tr th {\n",
       "        vertical-align: top;\n",
       "    }\n",
       "\n",
       "    .dataframe thead th {\n",
       "        text-align: right;\n",
       "    }\n",
       "</style>\n",
       "<table border=\"1\" class=\"dataframe\">\n",
       "  <thead>\n",
       "    <tr style=\"text-align: right;\">\n",
       "      <th></th>\n",
       "      <th>Count</th>\n",
       "      <th>Percent</th>\n",
       "    </tr>\n",
       "  </thead>\n",
       "  <tbody>\n",
       "    <tr>\n",
       "      <th>verification_status_joint</th>\n",
       "      <td>886868</td>\n",
       "      <td>99.942415</td>\n",
       "    </tr>\n",
       "    <tr>\n",
       "      <th>desc</th>\n",
       "      <td>761599</td>\n",
       "      <td>85.825673</td>\n",
       "    </tr>\n",
       "    <tr>\n",
       "      <th>mths_since_last_record</th>\n",
       "      <td>750326</td>\n",
       "      <td>84.555303</td>\n",
       "    </tr>\n",
       "    <tr>\n",
       "      <th>mths_since_last_major_derog</th>\n",
       "      <td>665676</td>\n",
       "      <td>75.015974</td>\n",
       "    </tr>\n",
       "    <tr>\n",
       "      <th>mths_since_last_delinq</th>\n",
       "      <td>454312</td>\n",
       "      <td>51.197065</td>\n",
       "    </tr>\n",
       "    <tr>\n",
       "      <th>total_rev_hi_lim</th>\n",
       "      <td>70276</td>\n",
       "      <td>7.919502</td>\n",
       "    </tr>\n",
       "    <tr>\n",
       "      <th>tot_cur_bal</th>\n",
       "      <td>70276</td>\n",
       "      <td>7.919502</td>\n",
       "    </tr>\n",
       "    <tr>\n",
       "      <th>tot_coll_amt</th>\n",
       "      <td>70276</td>\n",
       "      <td>7.919502</td>\n",
       "    </tr>\n",
       "    <tr>\n",
       "      <th>emp_length</th>\n",
       "      <td>44825</td>\n",
       "      <td>5.051393</td>\n",
       "    </tr>\n",
       "    <tr>\n",
       "      <th>last_week_pay</th>\n",
       "      <td>17659</td>\n",
       "      <td>1.990018</td>\n",
       "    </tr>\n",
       "    <tr>\n",
       "      <th>revol_util</th>\n",
       "      <td>502</td>\n",
       "      <td>0.056571</td>\n",
       "    </tr>\n",
       "    <tr>\n",
       "      <th>collections_12_mths_ex_med</th>\n",
       "      <td>145</td>\n",
       "      <td>0.016340</td>\n",
       "    </tr>\n",
       "    <tr>\n",
       "      <th>pub_rec</th>\n",
       "      <td>29</td>\n",
       "      <td>0.003268</td>\n",
       "    </tr>\n",
       "    <tr>\n",
       "      <th>acc_now_delinq</th>\n",
       "      <td>29</td>\n",
       "      <td>0.003268</td>\n",
       "    </tr>\n",
       "    <tr>\n",
       "      <th>open_acc</th>\n",
       "      <td>29</td>\n",
       "      <td>0.003268</td>\n",
       "    </tr>\n",
       "    <tr>\n",
       "      <th>delinq_2yrs</th>\n",
       "      <td>29</td>\n",
       "      <td>0.003268</td>\n",
       "    </tr>\n",
       "    <tr>\n",
       "      <th>total_acc</th>\n",
       "      <td>29</td>\n",
       "      <td>0.003268</td>\n",
       "    </tr>\n",
       "    <tr>\n",
       "      <th>annual_inc</th>\n",
       "      <td>4</td>\n",
       "      <td>0.000451</td>\n",
       "    </tr>\n",
       "  </tbody>\n",
       "</table>\n",
       "</div>"
      ],
      "text/plain": [
       "                              Count    Percent\n",
       "verification_status_joint    886868  99.942415\n",
       "desc                         761599  85.825673\n",
       "mths_since_last_record       750326  84.555303\n",
       "mths_since_last_major_derog  665676  75.015974\n",
       "mths_since_last_delinq       454312  51.197065\n",
       "total_rev_hi_lim              70276   7.919502\n",
       "tot_cur_bal                   70276   7.919502\n",
       "tot_coll_amt                  70276   7.919502\n",
       "emp_length                    44825   5.051393\n",
       "last_week_pay                 17659   1.990018\n",
       "revol_util                      502   0.056571\n",
       "collections_12_mths_ex_med      145   0.016340\n",
       "pub_rec                          29   0.003268\n",
       "acc_now_delinq                   29   0.003268\n",
       "open_acc                         29   0.003268\n",
       "delinq_2yrs                      29   0.003268\n",
       "total_acc                        29   0.003268\n",
       "annual_inc                        4   0.000451"
      ]
     },
     "execution_count": 15,
     "metadata": {},
     "output_type": "execute_result"
    }
   ],
   "source": [
    "# ## Finding the the count and percentage of values that are missing in the dataframe.\n",
    "# train_null = pd.DataFrame({'Count': train.isnull().sum(), 'Percent': 100*train.isnull().sum()/len(train)})\n",
    "\n",
    "# ##printing columns with null count more than 0\n",
    "# train_null[train_null['Count'] > 0].sort_values(by='Percent', ascending=False)\n",
    "\n",
    "\n",
    "## Finding the the count and percentage of values that are missing in the dataframe.\n",
    "data_null = pd.DataFrame({'Count': data.isnull().sum(), 'Percent': 100*data.isnull().sum()/len(data)})\n",
    "\n",
    "##printing columns with null count more than 0\n",
    "data_null[data_null['Count'] > 0].sort_values(by='Percent', ascending=False)"
   ]
  },
  {
   "cell_type": "markdown",
   "metadata": {},
   "source": [
    "We can see that there are a lot of features which have lot of data missing. These featues may not be necessary for our analysis. The following part will drop any columns where 80% or more data is missing. This will help us clean the Dataset a little bit.\n",
    "\n",
    "Actually there is no ideal way to deal with missing data. However handling missing values is an essential preprocessing task that can drastically deteriorate our model when not done with sufficient care.\n",
    "\n",
    "Before starting handling missing values it is important to identify the missing values and know with which value they are replaced. Possible variations of missing values are: ‘NaN’, ‘NA’, ‘None’, ‘ ’, ‘?’ and others."
   ]
  },
  {
   "cell_type": "code",
   "execution_count": 16,
   "metadata": {},
   "outputs": [
    {
     "data": {
      "text/html": [
       "<div>\n",
       "<style scoped>\n",
       "    .dataframe tbody tr th:only-of-type {\n",
       "        vertical-align: middle;\n",
       "    }\n",
       "\n",
       "    .dataframe tbody tr th {\n",
       "        vertical-align: top;\n",
       "    }\n",
       "\n",
       "    .dataframe thead th {\n",
       "        text-align: right;\n",
       "    }\n",
       "</style>\n",
       "<table border=\"1\" class=\"dataframe\">\n",
       "  <thead>\n",
       "    <tr style=\"text-align: right;\">\n",
       "      <th></th>\n",
       "      <th>member_id</th>\n",
       "      <th>loan_amnt</th>\n",
       "      <th>funded_amnt</th>\n",
       "      <th>funded_amnt_inv</th>\n",
       "      <th>term</th>\n",
       "      <th>int_rate</th>\n",
       "      <th>emp_length</th>\n",
       "      <th>home_ownership</th>\n",
       "      <th>annual_inc</th>\n",
       "      <th>verification_status</th>\n",
       "      <th>pymnt_plan</th>\n",
       "      <th>dti</th>\n",
       "      <th>delinq_2yrs</th>\n",
       "      <th>open_acc</th>\n",
       "      <th>pub_rec</th>\n",
       "      <th>revol_bal</th>\n",
       "      <th>revol_util</th>\n",
       "      <th>total_acc</th>\n",
       "      <th>initial_list_status</th>\n",
       "      <th>total_rec_int</th>\n",
       "      <th>total_rec_late_fee</th>\n",
       "      <th>recoveries</th>\n",
       "      <th>collection_recovery_fee</th>\n",
       "      <th>collections_12_mths_ex_med</th>\n",
       "      <th>application_type</th>\n",
       "      <th>last_week_pay</th>\n",
       "      <th>acc_now_delinq</th>\n",
       "      <th>tot_coll_amt</th>\n",
       "      <th>tot_cur_bal</th>\n",
       "      <th>total_rev_hi_lim</th>\n",
       "      <th>loan_status</th>\n",
       "      <th>TrainTest</th>\n",
       "    </tr>\n",
       "  </thead>\n",
       "  <tbody>\n",
       "    <tr>\n",
       "      <th>0</th>\n",
       "      <td>58189336</td>\n",
       "      <td>14350</td>\n",
       "      <td>14350</td>\n",
       "      <td>14350.0</td>\n",
       "      <td>36</td>\n",
       "      <td>19.19</td>\n",
       "      <td>9</td>\n",
       "      <td>OWN</td>\n",
       "      <td>28700.0</td>\n",
       "      <td>Source Verified</td>\n",
       "      <td>n</td>\n",
       "      <td>33.88</td>\n",
       "      <td>0.0</td>\n",
       "      <td>14.0</td>\n",
       "      <td>1.0</td>\n",
       "      <td>22515.0</td>\n",
       "      <td>73.1</td>\n",
       "      <td>28.0</td>\n",
       "      <td>f</td>\n",
       "      <td>1173.84</td>\n",
       "      <td>0.0</td>\n",
       "      <td>0.0</td>\n",
       "      <td>0.0</td>\n",
       "      <td>0.0</td>\n",
       "      <td>INDIVIDUAL</td>\n",
       "      <td>26</td>\n",
       "      <td>0.0</td>\n",
       "      <td>0.0</td>\n",
       "      <td>28699.0</td>\n",
       "      <td>30800.0</td>\n",
       "      <td>0</td>\n",
       "      <td>1</td>\n",
       "    </tr>\n",
       "    <tr>\n",
       "      <th>1</th>\n",
       "      <td>70011223</td>\n",
       "      <td>4800</td>\n",
       "      <td>4800</td>\n",
       "      <td>4800.0</td>\n",
       "      <td>36</td>\n",
       "      <td>10.99</td>\n",
       "      <td>1</td>\n",
       "      <td>MORTGAGE</td>\n",
       "      <td>65000.0</td>\n",
       "      <td>Source Verified</td>\n",
       "      <td>n</td>\n",
       "      <td>3.64</td>\n",
       "      <td>0.0</td>\n",
       "      <td>6.0</td>\n",
       "      <td>0.0</td>\n",
       "      <td>7624.0</td>\n",
       "      <td>23.2</td>\n",
       "      <td>13.0</td>\n",
       "      <td>w</td>\n",
       "      <td>83.95</td>\n",
       "      <td>0.0</td>\n",
       "      <td>0.0</td>\n",
       "      <td>0.0</td>\n",
       "      <td>0.0</td>\n",
       "      <td>INDIVIDUAL</td>\n",
       "      <td>9</td>\n",
       "      <td>0.0</td>\n",
       "      <td>0.0</td>\n",
       "      <td>9974.0</td>\n",
       "      <td>32900.0</td>\n",
       "      <td>0</td>\n",
       "      <td>1</td>\n",
       "    </tr>\n",
       "    <tr>\n",
       "      <th>2</th>\n",
       "      <td>70255675</td>\n",
       "      <td>10000</td>\n",
       "      <td>10000</td>\n",
       "      <td>10000.0</td>\n",
       "      <td>36</td>\n",
       "      <td>7.26</td>\n",
       "      <td>2</td>\n",
       "      <td>OWN</td>\n",
       "      <td>45000.0</td>\n",
       "      <td>Not Verified</td>\n",
       "      <td>n</td>\n",
       "      <td>18.42</td>\n",
       "      <td>0.0</td>\n",
       "      <td>5.0</td>\n",
       "      <td>0.0</td>\n",
       "      <td>10877.0</td>\n",
       "      <td>31.2</td>\n",
       "      <td>19.0</td>\n",
       "      <td>w</td>\n",
       "      <td>56.47</td>\n",
       "      <td>0.0</td>\n",
       "      <td>0.0</td>\n",
       "      <td>0.0</td>\n",
       "      <td>0.0</td>\n",
       "      <td>INDIVIDUAL</td>\n",
       "      <td>9</td>\n",
       "      <td>0.0</td>\n",
       "      <td>65.0</td>\n",
       "      <td>38295.0</td>\n",
       "      <td>34900.0</td>\n",
       "      <td>0</td>\n",
       "      <td>1</td>\n",
       "    </tr>\n",
       "    <tr>\n",
       "      <th>3</th>\n",
       "      <td>1893936</td>\n",
       "      <td>15000</td>\n",
       "      <td>15000</td>\n",
       "      <td>15000.0</td>\n",
       "      <td>36</td>\n",
       "      <td>19.72</td>\n",
       "      <td>10</td>\n",
       "      <td>RENT</td>\n",
       "      <td>105000.0</td>\n",
       "      <td>Not Verified</td>\n",
       "      <td>n</td>\n",
       "      <td>14.97</td>\n",
       "      <td>0.0</td>\n",
       "      <td>10.0</td>\n",
       "      <td>0.0</td>\n",
       "      <td>13712.0</td>\n",
       "      <td>55.5</td>\n",
       "      <td>21.0</td>\n",
       "      <td>f</td>\n",
       "      <td>4858.62</td>\n",
       "      <td>0.0</td>\n",
       "      <td>0.0</td>\n",
       "      <td>0.0</td>\n",
       "      <td>0.0</td>\n",
       "      <td>INDIVIDUAL</td>\n",
       "      <td>135</td>\n",
       "      <td>0.0</td>\n",
       "      <td>0.0</td>\n",
       "      <td>55564.0</td>\n",
       "      <td>24700.0</td>\n",
       "      <td>0</td>\n",
       "      <td>1</td>\n",
       "    </tr>\n",
       "    <tr>\n",
       "      <th>4</th>\n",
       "      <td>7652106</td>\n",
       "      <td>16000</td>\n",
       "      <td>16000</td>\n",
       "      <td>16000.0</td>\n",
       "      <td>36</td>\n",
       "      <td>10.64</td>\n",
       "      <td>10</td>\n",
       "      <td>RENT</td>\n",
       "      <td>52000.0</td>\n",
       "      <td>Verified</td>\n",
       "      <td>n</td>\n",
       "      <td>20.16</td>\n",
       "      <td>0.0</td>\n",
       "      <td>11.0</td>\n",
       "      <td>0.0</td>\n",
       "      <td>35835.0</td>\n",
       "      <td>76.2</td>\n",
       "      <td>27.0</td>\n",
       "      <td>w</td>\n",
       "      <td>2296.41</td>\n",
       "      <td>0.0</td>\n",
       "      <td>0.0</td>\n",
       "      <td>0.0</td>\n",
       "      <td>0.0</td>\n",
       "      <td>INDIVIDUAL</td>\n",
       "      <td>96</td>\n",
       "      <td>0.0</td>\n",
       "      <td>0.0</td>\n",
       "      <td>47159.0</td>\n",
       "      <td>47033.0</td>\n",
       "      <td>0</td>\n",
       "      <td>1</td>\n",
       "    </tr>\n",
       "  </tbody>\n",
       "</table>\n",
       "</div>"
      ],
      "text/plain": [
       "   member_id  loan_amnt  funded_amnt  funded_amnt_inv term  int_rate  \\\n",
       "0   58189336      14350        14350          14350.0   36     19.19   \n",
       "1   70011223       4800         4800           4800.0   36     10.99   \n",
       "2   70255675      10000        10000          10000.0   36      7.26   \n",
       "3    1893936      15000        15000          15000.0   36     19.72   \n",
       "4    7652106      16000        16000          16000.0   36     10.64   \n",
       "\n",
       "  emp_length home_ownership  annual_inc verification_status pymnt_plan    dti  \\\n",
       "0          9            OWN     28700.0     Source Verified          n  33.88   \n",
       "1          1       MORTGAGE     65000.0     Source Verified          n   3.64   \n",
       "2          2            OWN     45000.0        Not Verified          n  18.42   \n",
       "3         10           RENT    105000.0        Not Verified          n  14.97   \n",
       "4         10           RENT     52000.0            Verified          n  20.16   \n",
       "\n",
       "   delinq_2yrs  open_acc  pub_rec  revol_bal  revol_util  total_acc  \\\n",
       "0          0.0      14.0      1.0    22515.0        73.1       28.0   \n",
       "1          0.0       6.0      0.0     7624.0        23.2       13.0   \n",
       "2          0.0       5.0      0.0    10877.0        31.2       19.0   \n",
       "3          0.0      10.0      0.0    13712.0        55.5       21.0   \n",
       "4          0.0      11.0      0.0    35835.0        76.2       27.0   \n",
       "\n",
       "  initial_list_status  total_rec_int  total_rec_late_fee  recoveries  \\\n",
       "0                   f        1173.84                 0.0         0.0   \n",
       "1                   w          83.95                 0.0         0.0   \n",
       "2                   w          56.47                 0.0         0.0   \n",
       "3                   f        4858.62                 0.0         0.0   \n",
       "4                   w        2296.41                 0.0         0.0   \n",
       "\n",
       "   collection_recovery_fee  collections_12_mths_ex_med application_type  \\\n",
       "0                      0.0                         0.0       INDIVIDUAL   \n",
       "1                      0.0                         0.0       INDIVIDUAL   \n",
       "2                      0.0                         0.0       INDIVIDUAL   \n",
       "3                      0.0                         0.0       INDIVIDUAL   \n",
       "4                      0.0                         0.0       INDIVIDUAL   \n",
       "\n",
       "  last_week_pay  acc_now_delinq  tot_coll_amt  tot_cur_bal  total_rev_hi_lim  \\\n",
       "0            26             0.0           0.0      28699.0           30800.0   \n",
       "1             9             0.0           0.0       9974.0           32900.0   \n",
       "2             9             0.0          65.0      38295.0           34900.0   \n",
       "3           135             0.0           0.0      55564.0           24700.0   \n",
       "4            96             0.0           0.0      47159.0           47033.0   \n",
       "\n",
       "   loan_status  TrainTest  \n",
       "0            0          1  \n",
       "1            0          1  \n",
       "2            0          1  \n",
       "3            0          1  \n",
       "4            0          1  "
      ]
     },
     "execution_count": 16,
     "metadata": {},
     "output_type": "execute_result"
    }
   ],
   "source": [
    "NotNullData = data.dropna(axis=1, thresh=int(0.50*len(data)))\n",
    "NotNullData.head()"
   ]
  },
  {
   "cell_type": "code",
   "execution_count": 17,
   "metadata": {},
   "outputs": [
    {
     "name": "stderr",
     "output_type": "stream",
     "text": [
      "/home/dinesh/anaconda3/lib/python3.8/site-packages/pandas/core/series.py:4517: SettingWithCopyWarning: \n",
      "A value is trying to be set on a copy of a slice from a DataFrame\n",
      "\n",
      "See the caveats in the documentation: https://pandas.pydata.org/pandas-docs/stable/user_guide/indexing.html#returning-a-view-versus-a-copy\n",
      "  return super().fillna(\n",
      "<ipython-input-17-d1586cd527f9>:13: SettingWithCopyWarning: \n",
      "A value is trying to be set on a copy of a slice from a DataFrame\n",
      "\n",
      "See the caveats in the documentation: https://pandas.pydata.org/pandas-docs/stable/user_guide/indexing.html#returning-a-view-versus-a-copy\n",
      "  NotNullData.dropna(inplace=True)\n"
     ]
    }
   ],
   "source": [
    "# Replacing missing values of Age with median value\n",
    "NotNullData['tot_coll_amt'].fillna(NotNullData['tot_coll_amt'].median(), inplace=True)\n",
    "NotNullData['tot_cur_bal'].fillna(NotNullData['tot_cur_bal'].median(), inplace=True)\n",
    "NotNullData['total_rev_hi_lim'].fillna(NotNullData['total_rev_hi_lim'].median(), inplace=True)\n",
    "NotNullData['emp_length'].fillna(NotNullData['emp_length'].median(), inplace=True)\n",
    "NotNullData['last_week_pay'].fillna(NotNullData['last_week_pay'].median(), inplace=True)\n",
    "\n",
    "# Replacing missing values of emp_length with Mode value\n",
    "# NotNullData['batch_enrolled'].fillna(NotNullData['batch_enrolled'].mode()[0], inplace=True)\n",
    "# NotNullData['emp_title'].fillna(NotNullData['emp_title'].mode()[0], inplace=True)\n",
    "\n",
    "# Deleting the missing value rows if there are only few records\n",
    "NotNullData.dropna(inplace=True)"
   ]
  },
  {
   "cell_type": "code",
   "execution_count": 18,
   "metadata": {},
   "outputs": [
    {
     "data": {
      "text/plain": [
       "0"
      ]
     },
     "execution_count": 18,
     "metadata": {},
     "output_type": "execute_result"
    }
   ],
   "source": [
    "# Finding how many missing values are there for each column\n",
    "NotNullData.isnull().sum().max()"
   ]
  },
  {
   "cell_type": "code",
   "execution_count": 19,
   "metadata": {},
   "outputs": [
    {
     "data": {
      "text/plain": [
       "(886764, 32)"
      ]
     },
     "execution_count": 19,
     "metadata": {},
     "output_type": "execute_result"
    }
   ],
   "source": [
    "NotNullData.shape"
   ]
  },
  {
   "cell_type": "markdown",
   "metadata": {},
   "source": [
    "# Basic Data Exploration Results\n",
    "Based on the basic exploration above, you can now create a simple report of the data, noting down your \n",
    "observations regaring each column. Hence, creating a initial roadmap for further analysis. \n",
    "\n",
    "The selected columns in this step are not final, further study will be done and then a final list will be created\n",
    "\n",
    "* <b>PassengerId</b>: Qualitative. Rejected.\n",
    "* <b>Survived</b>: Categorical. Selected. This is the <b>Target Variable!</b>\n",
    "* <b>Pclass</b>: Categorical. Selected.\n",
    "* <b>Name</b>: Qualitative. Rejected. Your name does not save you from dying!!\n",
    "* <b>Sex</b>: Categorical. Selected.\n",
    "* <b>Age</b>: Continuous. Selected.\n",
    "* <b>SibSp</b>: Categorical. Selected.\n",
    "* <b>Parch</b>: Categorical. Selected.\n",
    "* <b>Ticket</b>: Qualitative. Rejected.\n",
    "* <b>Fare</b>: Continuous. Selected.\n",
    "* <b>Cabin</b>: Qualitative. Rejected. Also, this has too many missing values!\n",
    "* <b>Embarked</b>: Categorical. Selected."
   ]
  },
  {
   "cell_type": "code",
   "execution_count": 20,
   "metadata": {},
   "outputs": [
    {
     "data": {
      "text/plain": [
       "TrainTest                          2\n",
       "application_type                   2\n",
       "initial_list_status                2\n",
       "term                               2\n",
       "pymnt_plan                         2\n",
       "loan_status                        3\n",
       "verification_status                3\n",
       "home_ownership                     6\n",
       "acc_now_delinq                     8\n",
       "emp_length                        11\n",
       "collections_12_mths_ex_med        12\n",
       "delinq_2yrs                       29\n",
       "pub_rec                           32\n",
       "open_acc                          76\n",
       "last_week_pay                     98\n",
       "total_acc                        135\n",
       "int_rate                         542\n",
       "revol_util                      1356\n",
       "funded_amnt                     1372\n",
       "loan_amnt                       1372\n",
       "dti                             4086\n",
       "total_rec_late_fee              6131\n",
       "funded_amnt_inv                 9850\n",
       "tot_coll_amt                   10323\n",
       "collection_recovery_fee        20652\n",
       "total_rev_hi_lim               21248\n",
       "recoveries                     23008\n",
       "annual_inc                     49362\n",
       "revol_bal                      73709\n",
       "total_rec_int                 324522\n",
       "tot_cur_bal                   327232\n",
       "member_id                     886764\n",
       "dtype: int64"
      ]
     },
     "execution_count": 20,
     "metadata": {},
     "output_type": "execute_result"
    }
   ],
   "source": [
    "# Finging unique values for each column\n",
    "# TO understand which column is categorical and which one is Continuous\n",
    "# Typically if the numer of unique values are <20 then the variable is likely to be a category otherwise continuous\n",
    "NotNullData.nunique().sort_values()"
   ]
  },
  {
   "cell_type": "code",
   "execution_count": 21,
   "metadata": {},
   "outputs": [
    {
     "data": {
      "text/plain": [
       "(886764, 32)"
      ]
     },
     "execution_count": 21,
     "metadata": {},
     "output_type": "execute_result"
    }
   ],
   "source": [
    "NotNullData.shape"
   ]
  },
  {
   "cell_type": "code",
   "execution_count": 22,
   "metadata": {},
   "outputs": [],
   "source": [
    "categorical_predictor = ['loan_status', 'application_type','initial_list_status','pymnt_plan',\n",
    "                         'verification_status','home_ownership']\n",
    "\n",
    "continous_predictor = ['term','delinq_2yrs','pub_rec','open_acc','last_week_pay','total_acc','collections_12_mths_ex_med',\n",
    "                       'int_rate','revol_util','funded_amnt','loan_amnt','dti','total_rec_late_fee',\n",
    "                       'funded_amnt_inv','tot_coll_amt','collection_recovery_fee','recoveries','acc_now_delinq',\n",
    "                       'total_rev_hi_lim','annual_inc','revol_bal','total_rec_int','tot_cur_bal','emp_length']\n",
    "\n"
   ]
  },
  {
   "cell_type": "code",
   "execution_count": 23,
   "metadata": {},
   "outputs": [
    {
     "data": {
      "text/plain": [
       "6"
      ]
     },
     "execution_count": 23,
     "metadata": {},
     "output_type": "execute_result"
    }
   ],
   "source": [
    "len(categorical_predictor)"
   ]
  },
  {
   "cell_type": "code",
   "execution_count": 24,
   "metadata": {},
   "outputs": [
    {
     "data": {
      "text/plain": [
       "24"
      ]
     },
     "execution_count": 24,
     "metadata": {},
     "output_type": "execute_result"
    }
   ],
   "source": [
    "len(continous_predictor)"
   ]
  },
  {
   "cell_type": "markdown",
   "metadata": {},
   "source": [
    "# Visual Exploratory Data Analysis\n",
    "* Categorical variables: Bar plot\n",
    "* Continuous variables: Histogram"
   ]
  },
  {
   "cell_type": "markdown",
   "metadata": {},
   "source": [
    "### Visualize distribution of all the Categorical Predictor variables in the data using bar plots\n",
    "We can spot a categorical variable in the data by looking at the unique values in them. Typically a categorical variable contains less than 20 Unique values AND there is repetition of values, which means the data can be grouped by those unique values.\n",
    "\n",
    "Based on the Basic Data Exploration above, we have spotted five categorical predictors in the data\n",
    "\n",
    "Categorical Predictors: \n",
    "'Pclass', 'Sex', 'SibSp','Parch','Embarked'\n",
    "\n",
    "We use bar charts to see how the data is distributed for these categorical columns."
   ]
  },
  {
   "cell_type": "code",
   "execution_count": 25,
   "metadata": {},
   "outputs": [],
   "source": [
    "# Plotting multiple bar charts at once for categorical variables\n",
    "# Since there is no default function which can plot bar charts for multiple columns at once\n",
    "# we are defining our own function for the same\n",
    "\n",
    "def PlotBarCharts(inpData, colsToPlot):\n",
    "    # Generating multiple subplots\n",
    "    length = len(colsToPlot)\n",
    "    nrow = ((length//3) + (1 if (length%3)>0 else 0))\n",
    "    fig, subPlot = plt.subplots(nrows=nrow, ncols=3, figsize=(20,6*nrow))\n",
    "\n",
    "    for colName, plotNumber in zip(colsToPlot, range(13)):\n",
    "        inpData.groupby(colName).size().plot(kind='bar',ax=subPlot[plotNumber//3,plotNumber%3], rot=35,title=colName)"
   ]
  },
  {
   "cell_type": "code",
   "execution_count": 26,
   "metadata": {},
   "outputs": [
    {
     "data": {
      "image/png": "[encoded data removed]",
      "text/plain": [
       "<Figure size 1440x864 with 6 Axes>"
      ]
     },
     "metadata": {},
     "output_type": "display_data"
    }
   ],
   "source": [
    "# Calling the function\n",
    "\n",
    "PlotBarCharts(inpData=NotNullData, colsToPlot=categorical_predictor)"
   ]
  },
  {
   "cell_type": "markdown",
   "metadata": {},
   "source": [
    "## Bar Charts Interpretation\n",
    "These bar charts represent the frequencies of each category in the Y-axis and the category names in the X-axis.\n",
    "\n",
    "In the ideal bar chart each category has comparable frequency. Hence, there are enough rows for each category in the data for the ML algorithm to learn.\n",
    "\n",
    "If there is a column which shows too skewed distribution where there is only one dominant bar and the other categories are present in very low numbers. These kind of columns may not be very helpful in machine learning. We confirm this in the correlation analysis section and take a final call to select or reject the column.\n",
    "\n",
    "In this data, all the categorical columns except have satisfactory distribution to be considered for machine learning.\n",
    "\n",
    "<b>Selected Categorical Variables</b>: All the categorical variables are selected for further analysis.\n",
    "\n",
    "'Pclass', 'Sex', 'SibSp','Parch','Embarked'"
   ]
  },
  {
   "cell_type": "code",
   "execution_count": 27,
   "metadata": {},
   "outputs": [
    {
     "data": {
      "text/plain": [
       "MORTGAGE    443270\n",
       "RENT        355870\n",
       "OWN          87397\n",
       "OTHER          180\n",
       "NONE            44\n",
       "ANY              3\n",
       "Name: home_ownership, dtype: int64"
      ]
     },
     "execution_count": 27,
     "metadata": {},
     "output_type": "execute_result"
    }
   ],
   "source": [
    "NotNullData['home_ownership'].value_counts()"
   ]
  },
  {
   "cell_type": "code",
   "execution_count": 28,
   "metadata": {},
   "outputs": [
    {
     "name": "stderr",
     "output_type": "stream",
     "text": [
      "<ipython-input-28-5c0003fabb2a>:1: SettingWithCopyWarning: \n",
      "A value is trying to be set on a copy of a slice from a DataFrame\n",
      "\n",
      "See the caveats in the documentation: https://pandas.pydata.org/pandas-docs/stable/user_guide/indexing.html#returning-a-view-versus-a-copy\n",
      "  NotNullData['home_ownership'][(NotNullData['home_ownership'] == 'NONE') |\n",
      "/home/dinesh/anaconda3/lib/python3.8/site-packages/pandas/core/series.py:1020: SettingWithCopyWarning: \n",
      "A value is trying to be set on a copy of a slice from a DataFrame\n",
      "\n",
      "See the caveats in the documentation: https://pandas.pydata.org/pandas-docs/stable/user_guide/indexing.html#returning-a-view-versus-a-copy\n",
      "  self._where(~key, value, inplace=True)\n"
     ]
    }
   ],
   "source": [
    "NotNullData['home_ownership'][(NotNullData['home_ownership'] == 'NONE') | \n",
    "                                 (NotNullData['home_ownership'] == 'ANY')] = 'OTHER'"
   ]
  },
  {
   "cell_type": "markdown",
   "metadata": {},
   "source": [
    "### Visualize distribution of all the Continuous Predictor variables in the data using histograms\n",
    "Based on the Basic Data Exploration, there are two continuous predictor variables 'Age',and 'Fare'\n",
    "\n",
    "The ideal outcome for histogram is a bell curve or slightly skewed bell curve. If there is too much skewness, then outlier treatment should be done and the column should be re-examined, if that also does not solve the problem then only reject the column."
   ]
  },
  {
   "cell_type": "code",
   "execution_count": 29,
   "metadata": {},
   "outputs": [
    {
     "data": {
      "image/png": "[encoded data removed]",
      "text/plain": [
       "<Figure size 1440x1296 with 25 Axes>"
      ]
     },
     "metadata": {},
     "output_type": "display_data"
    }
   ],
   "source": [
    "# Plotting histograms of multiple columns together\n",
    "# Observe that ApplicantIncome and CoapplicantIncome has outliers\n",
    "NotNullData.hist(continous_predictor, figsize=(20,18));"
   ]
  },
  {
   "cell_type": "markdown",
   "metadata": {},
   "source": [
    "## Histogram Interpretation\n",
    "Histograms shows us the data distribution for a single continuous variable.\n",
    "\n",
    "The X-axis shows the range of values and Y-axis represent the number of values in that range. For example, in the above histogram of \"Age\", there are around 175 rows in data that has a age between 20 to 30.\n",
    "\n",
    "The ideal outcome for histogram is a bell curve or slightly skewed bell curve. If there is too much skewness, then outlier treatment should be done and the column should be re-examined, if that also does not solve the problem then only reject the column.\n",
    "\n",
    "<b>Selected Continuous Variables:</b>\n",
    "* <b>Age</b> : Selected. The distribution is good.\n",
    "* <b>Fare</b>: Selected. Outliers seen beyond 300, need to treat them."
   ]
  },
  {
   "cell_type": "markdown",
   "metadata": {},
   "source": [
    "# Outlier treatment\n",
    "\n",
    "Outliers are extreme values in the data which are far away from most of the values. You can see them as the tails in the histogram.\n",
    "\n",
    "Outlier must be treated one column at a time. As the treatment will be slightly different for each column.\n",
    "\n",
    "<b>Why I should treat the outliers?</b>\n",
    "\n",
    "Outliers bias the training of machine learning models. As the algorithm tries to fit the extreme value, it goes away from majority of the data.\n",
    "\n",
    "There are below two options to treat outliers in the data. \n",
    "\n",
    "* Option-1: Delete the outlier Records. Only if there are just few rows lost.\n",
    "* Option-2: Impute the outlier values with a logical business value\n",
    "\n",
    "Below we are finding out the most logical value to be replaced in place of outliers by looking at the histogram."
   ]
  },
  {
   "cell_type": "code",
   "execution_count": 30,
   "metadata": {},
   "outputs": [],
   "source": [
    "# Observing the relationship with Target variable again after Outlier treatment\n",
    "# You can see that the distribution has improved now\n",
    "# trainCleanData.boxplot(column='open_acc', by='loan_status', figsize=(10,8), vert=True)"
   ]
  },
  {
   "cell_type": "code",
   "execution_count": 31,
   "metadata": {},
   "outputs": [
    {
     "data": {
      "text/plain": [
       "(310,)"
      ]
     },
     "execution_count": 31,
     "metadata": {},
     "output_type": "execute_result"
    }
   ],
   "source": [
    "NotNullData[(NotNullData['loan_status']==1) & (NotNullData['delinq_2yrs']>5)]['delinq_2yrs'].shape"
   ]
  },
  {
   "cell_type": "code",
   "execution_count": 32,
   "metadata": {},
   "outputs": [
    {
     "data": {
      "text/plain": [
       "648568    4.0\n",
       "91327     4.0\n",
       "829751    4.0\n",
       "294502    4.0\n",
       "442153    4.0\n",
       "         ... \n",
       "561214    0.0\n",
       "561213    0.0\n",
       "561212    0.0\n",
       "561211    0.0\n",
       "0         0.0\n",
       "Name: delinq_2yrs, Length: 880467, dtype: float64"
      ]
     },
     "execution_count": 32,
     "metadata": {},
     "output_type": "execute_result"
    }
   ],
   "source": [
    "# Finding nearest values to 10 mark\n",
    "NotNullData['delinq_2yrs'][NotNullData['delinq_2yrs']<5].sort_values(ascending=False)"
   ]
  },
  {
   "cell_type": "markdown",
   "metadata": {},
   "source": [
    "Above result shows the nearest logical value is 9.0, hence, replacing any value above 10 with it"
   ]
  },
  {
   "cell_type": "code",
   "execution_count": 33,
   "metadata": {},
   "outputs": [
    {
     "name": "stderr",
     "output_type": "stream",
     "text": [
      "<ipython-input-33-768059c5ba75>:2: SettingWithCopyWarning: \n",
      "A value is trying to be set on a copy of a slice from a DataFrame\n",
      "\n",
      "See the caveats in the documentation: https://pandas.pydata.org/pandas-docs/stable/user_guide/indexing.html#returning-a-view-versus-a-copy\n",
      "  NotNullData['delinq_2yrs'][NotNullData['delinq_2yrs']>5] = .0\n",
      "/home/dinesh/anaconda3/lib/python3.8/site-packages/pandas/core/series.py:1020: SettingWithCopyWarning: \n",
      "A value is trying to be set on a copy of a slice from a DataFrame\n",
      "\n",
      "See the caveats in the documentation: https://pandas.pydata.org/pandas-docs/stable/user_guide/indexing.html#returning-a-view-versus-a-copy\n",
      "  self._where(~key, value, inplace=True)\n"
     ]
    }
   ],
   "source": [
    "# Replacing outliers with nearest possibe value\n",
    "NotNullData['delinq_2yrs'][NotNullData['delinq_2yrs']>5] = .0"
   ]
  },
  {
   "cell_type": "code",
   "execution_count": null,
   "metadata": {},
   "outputs": [],
   "source": []
  },
  {
   "cell_type": "code",
   "execution_count": 34,
   "metadata": {},
   "outputs": [
    {
     "data": {
      "text/plain": [
       "704393    9.0\n",
       "80850     9.0\n",
       "583193    9.0\n",
       "313529    9.0\n",
       "421349    9.0\n",
       "         ... \n",
       "508852    0.0\n",
       "508851    0.0\n",
       "508850    0.0\n",
       "508849    0.0\n",
       "887378    0.0\n",
       "Name: pub_rec, Length: 886632, dtype: float64"
      ]
     },
     "execution_count": 34,
     "metadata": {},
     "output_type": "execute_result"
    }
   ],
   "source": [
    "# Finding nearest values to 10 mark\n",
    "NotNullData['pub_rec'][NotNullData['pub_rec']<10].sort_values(ascending=False)"
   ]
  },
  {
   "cell_type": "code",
   "execution_count": 35,
   "metadata": {},
   "outputs": [
    {
     "name": "stderr",
     "output_type": "stream",
     "text": [
      "<ipython-input-35-ed4bee874215>:2: SettingWithCopyWarning: \n",
      "A value is trying to be set on a copy of a slice from a DataFrame\n",
      "\n",
      "See the caveats in the documentation: https://pandas.pydata.org/pandas-docs/stable/user_guide/indexing.html#returning-a-view-versus-a-copy\n",
      "  NotNullData['pub_rec'][NotNullData['pub_rec']>10] = 9.0\n",
      "/home/dinesh/anaconda3/lib/python3.8/site-packages/pandas/core/series.py:1020: SettingWithCopyWarning: \n",
      "A value is trying to be set on a copy of a slice from a DataFrame\n",
      "\n",
      "See the caveats in the documentation: https://pandas.pydata.org/pandas-docs/stable/user_guide/indexing.html#returning-a-view-versus-a-copy\n",
      "  self._where(~key, value, inplace=True)\n"
     ]
    }
   ],
   "source": [
    "# Replacing outliers with nearest possibe value\n",
    "NotNullData['pub_rec'][NotNullData['pub_rec']>10] = 9.0"
   ]
  },
  {
   "cell_type": "code",
   "execution_count": null,
   "metadata": {},
   "outputs": [],
   "source": []
  },
  {
   "cell_type": "code",
   "execution_count": 36,
   "metadata": {},
   "outputs": [
    {
     "data": {
      "text/plain": [
       "520403    39.0\n",
       "749514    39.0\n",
       "129510    39.0\n",
       "710823    39.0\n",
       "130169    39.0\n",
       "          ... \n",
       "545726     1.0\n",
       "694549     1.0\n",
       "816171     1.0\n",
       "502380     1.0\n",
       "440709     1.0\n",
       "Name: open_acc, Length: 886004, dtype: float64"
      ]
     },
     "execution_count": 36,
     "metadata": {},
     "output_type": "execute_result"
    }
   ],
   "source": [
    "# Finding nearest values to 10 mark\n",
    "NotNullData['open_acc'][NotNullData['open_acc']<40].sort_values(ascending=False)"
   ]
  },
  {
   "cell_type": "code",
   "execution_count": 37,
   "metadata": {},
   "outputs": [
    {
     "name": "stderr",
     "output_type": "stream",
     "text": [
      "<ipython-input-37-90b3d4d5b830>:2: SettingWithCopyWarning: \n",
      "A value is trying to be set on a copy of a slice from a DataFrame\n",
      "\n",
      "See the caveats in the documentation: https://pandas.pydata.org/pandas-docs/stable/user_guide/indexing.html#returning-a-view-versus-a-copy\n",
      "  NotNullData['open_acc'][NotNullData['open_acc']>40] = 39.0\n",
      "/home/dinesh/anaconda3/lib/python3.8/site-packages/pandas/core/series.py:1020: SettingWithCopyWarning: \n",
      "A value is trying to be set on a copy of a slice from a DataFrame\n",
      "\n",
      "See the caveats in the documentation: https://pandas.pydata.org/pandas-docs/stable/user_guide/indexing.html#returning-a-view-versus-a-copy\n",
      "  self._where(~key, value, inplace=True)\n"
     ]
    }
   ],
   "source": [
    "# Replacing outliers with nearest possibe value\n",
    "NotNullData['open_acc'][NotNullData['open_acc']>40] = 39.0"
   ]
  },
  {
   "cell_type": "code",
   "execution_count": null,
   "metadata": {},
   "outputs": [],
   "source": []
  },
  {
   "cell_type": "code",
   "execution_count": 38,
   "metadata": {},
   "outputs": [
    {
     "data": {
      "text/plain": [
       "465584    79.0\n",
       "398624    79.0\n",
       "638879    79.0\n",
       "532622    79.0\n",
       "277797    79.0\n",
       "          ... \n",
       "102411     1.0\n",
       "431031     1.0\n",
       "146123     1.0\n",
       "503747     1.0\n",
       "274025     1.0\n",
       "Name: total_acc, Length: 886043, dtype: float64"
      ]
     },
     "execution_count": 38,
     "metadata": {},
     "output_type": "execute_result"
    }
   ],
   "source": [
    "# Finding nearest values to 10 mark\n",
    "NotNullData['total_acc'][NotNullData['total_acc']<80].sort_values(ascending=False)"
   ]
  },
  {
   "cell_type": "code",
   "execution_count": 39,
   "metadata": {},
   "outputs": [
    {
     "name": "stderr",
     "output_type": "stream",
     "text": [
      "<ipython-input-39-67c5c04199db>:2: SettingWithCopyWarning: \n",
      "A value is trying to be set on a copy of a slice from a DataFrame\n",
      "\n",
      "See the caveats in the documentation: https://pandas.pydata.org/pandas-docs/stable/user_guide/indexing.html#returning-a-view-versus-a-copy\n",
      "  NotNullData['total_acc'][NotNullData['total_acc']>80] = 79.0\n",
      "/home/dinesh/anaconda3/lib/python3.8/site-packages/pandas/core/series.py:1020: SettingWithCopyWarning: \n",
      "A value is trying to be set on a copy of a slice from a DataFrame\n",
      "\n",
      "See the caveats in the documentation: https://pandas.pydata.org/pandas-docs/stable/user_guide/indexing.html#returning-a-view-versus-a-copy\n",
      "  self._where(~key, value, inplace=True)\n"
     ]
    }
   ],
   "source": [
    "# Replacing outliers with nearest possibe value\n",
    "NotNullData['total_acc'][NotNullData['total_acc']>80] = 79.0"
   ]
  },
  {
   "cell_type": "code",
   "execution_count": 40,
   "metadata": {},
   "outputs": [
    {
     "data": {
      "text/plain": [
       "(4,)"
      ]
     },
     "execution_count": 40,
     "metadata": {},
     "output_type": "execute_result"
    }
   ],
   "source": [
    "NotNullData[(NotNullData['loan_status']==1) & (NotNullData['revol_util']>120)]['revol_util'].shape"
   ]
  },
  {
   "cell_type": "code",
   "execution_count": 41,
   "metadata": {},
   "outputs": [
    {
     "data": {
      "text/plain": [
       "59825     119.8\n",
       "592571    119.7\n",
       "395179    119.7\n",
       "169115    119.6\n",
       "252712    119.4\n",
       "          ...  \n",
       "746190      0.0\n",
       "746176      0.0\n",
       "599816      0.0\n",
       "285932      0.0\n",
       "678672      0.0\n",
       "Name: revol_util, Length: 886669, dtype: float64"
      ]
     },
     "execution_count": 41,
     "metadata": {},
     "output_type": "execute_result"
    }
   ],
   "source": [
    "# Finding nearest values to 10 mark\n",
    "NotNullData['revol_util'][NotNullData['revol_util']<120].sort_values(ascending=False)"
   ]
  },
  {
   "cell_type": "code",
   "execution_count": 42,
   "metadata": {},
   "outputs": [
    {
     "name": "stderr",
     "output_type": "stream",
     "text": [
      "<ipython-input-42-9f9bc431a771>:2: SettingWithCopyWarning: \n",
      "A value is trying to be set on a copy of a slice from a DataFrame\n",
      "\n",
      "See the caveats in the documentation: https://pandas.pydata.org/pandas-docs/stable/user_guide/indexing.html#returning-a-view-versus-a-copy\n",
      "  NotNullData['revol_util'][NotNullData['revol_util']>120] = 119.0\n",
      "/home/dinesh/anaconda3/lib/python3.8/site-packages/pandas/core/series.py:1020: SettingWithCopyWarning: \n",
      "A value is trying to be set on a copy of a slice from a DataFrame\n",
      "\n",
      "See the caveats in the documentation: https://pandas.pydata.org/pandas-docs/stable/user_guide/indexing.html#returning-a-view-versus-a-copy\n",
      "  self._where(~key, value, inplace=True)\n"
     ]
    }
   ],
   "source": [
    "# Replacing outliers with nearest possibe value\n",
    "NotNullData['revol_util'][NotNullData['revol_util']>120] = 119.0"
   ]
  },
  {
   "cell_type": "code",
   "execution_count": 43,
   "metadata": {},
   "outputs": [
    {
     "data": {
      "text/plain": [
       "(1,)"
      ]
     },
     "execution_count": 43,
     "metadata": {},
     "output_type": "execute_result"
    }
   ],
   "source": [
    "NotNullData[(NotNullData['loan_status']==1) & (NotNullData['dti']>50)]['dti'].shape"
   ]
  },
  {
   "cell_type": "code",
   "execution_count": 44,
   "metadata": {},
   "outputs": [
    {
     "data": {
      "text/plain": [
       "863792    48.91\n",
       "80381     48.56\n",
       "115012    48.48\n",
       "502326    47.61\n",
       "279099    47.31\n",
       "          ...  \n",
       "648003     0.00\n",
       "103380     0.00\n",
       "345395     0.00\n",
       "676636     0.00\n",
       "182356     0.00\n",
       "Name: dti, Length: 886720, dtype: float64"
      ]
     },
     "execution_count": 44,
     "metadata": {},
     "output_type": "execute_result"
    }
   ],
   "source": [
    "# Finding nearest values to 10 mark\n",
    "NotNullData['dti'][NotNullData['dti']<50].sort_values(ascending=False)"
   ]
  },
  {
   "cell_type": "code",
   "execution_count": 45,
   "metadata": {},
   "outputs": [
    {
     "name": "stderr",
     "output_type": "stream",
     "text": [
      "<ipython-input-45-8b5f904304ae>:2: SettingWithCopyWarning: \n",
      "A value is trying to be set on a copy of a slice from a DataFrame\n",
      "\n",
      "See the caveats in the documentation: https://pandas.pydata.org/pandas-docs/stable/user_guide/indexing.html#returning-a-view-versus-a-copy\n",
      "  NotNullData['dti'][NotNullData['dti']>50] = 48.56\n",
      "/home/dinesh/anaconda3/lib/python3.8/site-packages/pandas/core/series.py:1020: SettingWithCopyWarning: \n",
      "A value is trying to be set on a copy of a slice from a DataFrame\n",
      "\n",
      "See the caveats in the documentation: https://pandas.pydata.org/pandas-docs/stable/user_guide/indexing.html#returning-a-view-versus-a-copy\n",
      "  self._where(~key, value, inplace=True)\n"
     ]
    }
   ],
   "source": [
    "# Replacing outliers with nearest possibe value\n",
    "NotNullData['dti'][NotNullData['dti']>50] = 48.56"
   ]
  },
  {
   "cell_type": "code",
   "execution_count": null,
   "metadata": {},
   "outputs": [],
   "source": []
  },
  {
   "cell_type": "markdown",
   "metadata": {},
   "source": [
    "# tot_coll_amt\n",
    "# collection_recovery_fee\n",
    "# total_rec_late_fee\n",
    "# recoveries"
   ]
  },
  {
   "cell_type": "code",
   "execution_count": null,
   "metadata": {},
   "outputs": [],
   "source": []
  },
  {
   "cell_type": "code",
   "execution_count": null,
   "metadata": {},
   "outputs": [],
   "source": []
  },
  {
   "cell_type": "code",
   "execution_count": 46,
   "metadata": {},
   "outputs": [
    {
     "data": {
      "text/plain": [
       "(2394,)"
      ]
     },
     "execution_count": 46,
     "metadata": {},
     "output_type": "execute_result"
    }
   ],
   "source": [
    "NotNullData[(NotNullData['loan_status']==1) & (NotNullData['total_rev_hi_lim']>100000)]['total_rev_hi_lim'].shape"
   ]
  },
  {
   "cell_type": "code",
   "execution_count": 47,
   "metadata": {},
   "outputs": [
    {
     "data": {
      "text/plain": [
       "705585    99985.0\n",
       "262420    99922.0\n",
       "255023    99920.0\n",
       "466067    99905.0\n",
       "330292    99904.0\n",
       "           ...   \n",
       "600285      100.0\n",
       "508928      100.0\n",
       "437316        0.0\n",
       "740963        0.0\n",
       "632240        0.0\n",
       "Name: total_rev_hi_lim, Length: 861692, dtype: float64"
      ]
     },
     "execution_count": 47,
     "metadata": {},
     "output_type": "execute_result"
    }
   ],
   "source": [
    "# Finding nearest values to 10 mark\n",
    "NotNullData['total_rev_hi_lim'][NotNullData['total_rev_hi_lim']<100000].sort_values(ascending=False)"
   ]
  },
  {
   "cell_type": "code",
   "execution_count": 48,
   "metadata": {},
   "outputs": [
    {
     "name": "stderr",
     "output_type": "stream",
     "text": [
      "<ipython-input-48-5ff07da3b2ea>:2: SettingWithCopyWarning: \n",
      "A value is trying to be set on a copy of a slice from a DataFrame\n",
      "\n",
      "See the caveats in the documentation: https://pandas.pydata.org/pandas-docs/stable/user_guide/indexing.html#returning-a-view-versus-a-copy\n",
      "  NotNullData['total_rev_hi_lim'][NotNullData['total_rev_hi_lim']>100000] = 99922.0\n",
      "/home/dinesh/anaconda3/lib/python3.8/site-packages/pandas/core/series.py:1020: SettingWithCopyWarning: \n",
      "A value is trying to be set on a copy of a slice from a DataFrame\n",
      "\n",
      "See the caveats in the documentation: https://pandas.pydata.org/pandas-docs/stable/user_guide/indexing.html#returning-a-view-versus-a-copy\n",
      "  self._where(~key, value, inplace=True)\n"
     ]
    }
   ],
   "source": [
    "# Replacing outliers with nearest possibe value\n",
    "NotNullData['total_rev_hi_lim'][NotNullData['total_rev_hi_lim']>100000] = 99922.0"
   ]
  },
  {
   "cell_type": "code",
   "execution_count": null,
   "metadata": {},
   "outputs": [],
   "source": []
  },
  {
   "cell_type": "code",
   "execution_count": 49,
   "metadata": {},
   "outputs": [
    {
     "data": {
      "text/plain": [
       "(2088,)"
      ]
     },
     "execution_count": 49,
     "metadata": {},
     "output_type": "execute_result"
    }
   ],
   "source": [
    "NotNullData[(NotNullData['loan_status']==1) & (NotNullData['annual_inc']>200000)]['revol_util'].shape"
   ]
  },
  {
   "cell_type": "code",
   "execution_count": 50,
   "metadata": {},
   "outputs": [
    {
     "data": {
      "text/plain": [
       "38575     199999.0\n",
       "202563    199992.0\n",
       "164334    199956.0\n",
       "775       199956.0\n",
       "236778    199900.0\n",
       "            ...   \n",
       "160800      1896.0\n",
       "566025      1770.0\n",
       "331505      1200.0\n",
       "818829         0.0\n",
       "615622         0.0\n",
       "Name: annual_inc, Length: 866738, dtype: float64"
      ]
     },
     "execution_count": 50,
     "metadata": {},
     "output_type": "execute_result"
    }
   ],
   "source": [
    "# Finding nearest values to 10 mark\n",
    "NotNullData['annual_inc'][NotNullData['annual_inc']<200000].sort_values(ascending=False)"
   ]
  },
  {
   "cell_type": "code",
   "execution_count": 51,
   "metadata": {},
   "outputs": [
    {
     "name": "stderr",
     "output_type": "stream",
     "text": [
      "<ipython-input-51-b9f245a71763>:2: SettingWithCopyWarning: \n",
      "A value is trying to be set on a copy of a slice from a DataFrame\n",
      "\n",
      "See the caveats in the documentation: https://pandas.pydata.org/pandas-docs/stable/user_guide/indexing.html#returning-a-view-versus-a-copy\n",
      "  NotNullData['annual_inc'][NotNullData['annual_inc']>200000] = 199999.0\n",
      "/home/dinesh/anaconda3/lib/python3.8/site-packages/pandas/core/series.py:1020: SettingWithCopyWarning: \n",
      "A value is trying to be set on a copy of a slice from a DataFrame\n",
      "\n",
      "See the caveats in the documentation: https://pandas.pydata.org/pandas-docs/stable/user_guide/indexing.html#returning-a-view-versus-a-copy\n",
      "  self._where(~key, value, inplace=True)\n"
     ]
    }
   ],
   "source": [
    "# Replacing outliers with nearest possibe value\n",
    "NotNullData['annual_inc'][NotNullData['annual_inc']>200000] = 199999.0"
   ]
  },
  {
   "cell_type": "code",
   "execution_count": null,
   "metadata": {},
   "outputs": [],
   "source": []
  },
  {
   "cell_type": "code",
   "execution_count": 52,
   "metadata": {},
   "outputs": [
    {
     "data": {
      "text/plain": [
       "(1559,)"
      ]
     },
     "execution_count": 52,
     "metadata": {},
     "output_type": "execute_result"
    }
   ],
   "source": [
    "NotNullData[(NotNullData['loan_status']==1) & (NotNullData['revol_bal']>75000)]['revol_bal'].shape"
   ]
  },
  {
   "cell_type": "code",
   "execution_count": 53,
   "metadata": {},
   "outputs": [
    {
     "data": {
      "text/plain": [
       "567240    74998.0\n",
       "257893    74988.0\n",
       "547672    74984.0\n",
       "469426    74983.0\n",
       "50922     74982.0\n",
       "           ...   \n",
       "556641        0.0\n",
       "107359        0.0\n",
       "589246        0.0\n",
       "518466        0.0\n",
       "648237        0.0\n",
       "Name: revol_bal, Length: 873302, dtype: float64"
      ]
     },
     "execution_count": 53,
     "metadata": {},
     "output_type": "execute_result"
    }
   ],
   "source": [
    "# Finding nearest values to 10 mark\n",
    "NotNullData['revol_bal'][NotNullData['revol_bal']<75000].sort_values(ascending=False)"
   ]
  },
  {
   "cell_type": "code",
   "execution_count": 54,
   "metadata": {},
   "outputs": [
    {
     "name": "stderr",
     "output_type": "stream",
     "text": [
      "<ipython-input-54-72e1e80471cc>:2: SettingWithCopyWarning: \n",
      "A value is trying to be set on a copy of a slice from a DataFrame\n",
      "\n",
      "See the caveats in the documentation: https://pandas.pydata.org/pandas-docs/stable/user_guide/indexing.html#returning-a-view-versus-a-copy\n",
      "  NotNullData['revol_bal'][NotNullData['revol_bal']>75000] = 74988.0\n",
      "/home/dinesh/anaconda3/lib/python3.8/site-packages/pandas/core/series.py:1020: SettingWithCopyWarning: \n",
      "A value is trying to be set on a copy of a slice from a DataFrame\n",
      "\n",
      "See the caveats in the documentation: https://pandas.pydata.org/pandas-docs/stable/user_guide/indexing.html#returning-a-view-versus-a-copy\n",
      "  self._where(~key, value, inplace=True)\n"
     ]
    }
   ],
   "source": [
    "# Replacing outliers with nearest possibe value\n",
    "NotNullData['revol_bal'][NotNullData['revol_bal']>75000] = 74988.0"
   ]
  },
  {
   "cell_type": "code",
   "execution_count": null,
   "metadata": {},
   "outputs": [],
   "source": []
  },
  {
   "cell_type": "code",
   "execution_count": 55,
   "metadata": {},
   "outputs": [
    {
     "data": {
      "text/plain": [
       "(1247,)"
      ]
     },
     "execution_count": 55,
     "metadata": {},
     "output_type": "execute_result"
    }
   ],
   "source": [
    "NotNullData[(NotNullData['loan_status']==1) & (NotNullData['total_rec_int']>10000)]['total_rec_int'].shape"
   ]
  },
  {
   "cell_type": "code",
   "execution_count": 56,
   "metadata": {},
   "outputs": [
    {
     "data": {
      "text/plain": [
       "462125    9999.81\n",
       "646235    9999.64\n",
       "92230     9999.49\n",
       "681504    9999.25\n",
       "500698    9999.22\n",
       "           ...   \n",
       "789388       0.00\n",
       "848698       0.00\n",
       "524042       0.00\n",
       "112970       0.00\n",
       "341301       0.00\n",
       "Name: total_rec_int, Length: 876969, dtype: float64"
      ]
     },
     "execution_count": 56,
     "metadata": {},
     "output_type": "execute_result"
    }
   ],
   "source": [
    "# Finding nearest values to 10 mark\n",
    "NotNullData['total_rec_int'][NotNullData['total_rec_int']<10000].sort_values(ascending=False)"
   ]
  },
  {
   "cell_type": "code",
   "execution_count": 57,
   "metadata": {},
   "outputs": [
    {
     "name": "stderr",
     "output_type": "stream",
     "text": [
      "<ipython-input-57-3187a69e0ea5>:2: SettingWithCopyWarning: \n",
      "A value is trying to be set on a copy of a slice from a DataFrame\n",
      "\n",
      "See the caveats in the documentation: https://pandas.pydata.org/pandas-docs/stable/user_guide/indexing.html#returning-a-view-versus-a-copy\n",
      "  NotNullData['total_rec_int'][NotNullData['total_rec_int']>10000] = 9999.81\n",
      "/home/dinesh/anaconda3/lib/python3.8/site-packages/pandas/core/series.py:1020: SettingWithCopyWarning: \n",
      "A value is trying to be set on a copy of a slice from a DataFrame\n",
      "\n",
      "See the caveats in the documentation: https://pandas.pydata.org/pandas-docs/stable/user_guide/indexing.html#returning-a-view-versus-a-copy\n",
      "  self._where(~key, value, inplace=True)\n"
     ]
    }
   ],
   "source": [
    "# Replacing outliers with nearest possibe value\n",
    "NotNullData['total_rec_int'][NotNullData['total_rec_int']>10000] = 9999.81"
   ]
  },
  {
   "cell_type": "code",
   "execution_count": null,
   "metadata": {},
   "outputs": [],
   "source": []
  },
  {
   "cell_type": "code",
   "execution_count": 58,
   "metadata": {},
   "outputs": [
    {
     "data": {
      "text/plain": [
       "(2743,)"
      ]
     },
     "execution_count": 58,
     "metadata": {},
     "output_type": "execute_result"
    }
   ],
   "source": [
    "NotNullData[(NotNullData['loan_status']==1) & (NotNullData['tot_cur_bal']>500000)]['tot_cur_bal'].shape"
   ]
  },
  {
   "cell_type": "code",
   "execution_count": 59,
   "metadata": {},
   "outputs": [
    {
     "data": {
      "text/plain": [
       "351857    499974.0\n",
       "526947    499973.0\n",
       "255492    499967.0\n",
       "110365    499964.0\n",
       "372173    499955.0\n",
       "            ...   \n",
       "575402         0.0\n",
       "459611         0.0\n",
       "202863         0.0\n",
       "664013         0.0\n",
       "751227         0.0\n",
       "Name: tot_cur_bal, Length: 863651, dtype: float64"
      ]
     },
     "execution_count": 59,
     "metadata": {},
     "output_type": "execute_result"
    }
   ],
   "source": [
    "# Finding nearest values to 10 mark\n",
    "NotNullData['tot_cur_bal'][NotNullData['tot_cur_bal']<500000].sort_values(ascending=False)"
   ]
  },
  {
   "cell_type": "code",
   "execution_count": 60,
   "metadata": {},
   "outputs": [
    {
     "name": "stderr",
     "output_type": "stream",
     "text": [
      "<ipython-input-60-ff8008f8695b>:2: SettingWithCopyWarning: \n",
      "A value is trying to be set on a copy of a slice from a DataFrame\n",
      "\n",
      "See the caveats in the documentation: https://pandas.pydata.org/pandas-docs/stable/user_guide/indexing.html#returning-a-view-versus-a-copy\n",
      "  NotNullData['tot_cur_bal'][NotNullData['tot_cur_bal']>500000] = 499974.0\n",
      "/home/dinesh/anaconda3/lib/python3.8/site-packages/pandas/core/series.py:1020: SettingWithCopyWarning: \n",
      "A value is trying to be set on a copy of a slice from a DataFrame\n",
      "\n",
      "See the caveats in the documentation: https://pandas.pydata.org/pandas-docs/stable/user_guide/indexing.html#returning-a-view-versus-a-copy\n",
      "  self._where(~key, value, inplace=True)\n"
     ]
    }
   ],
   "source": [
    "# Replacing outliers with nearest possibe value\n",
    "NotNullData['tot_cur_bal'][NotNullData['tot_cur_bal']>500000] = 499974.0"
   ]
  },
  {
   "cell_type": "markdown",
   "metadata": {},
   "source": [
    "# Visualizing distribution after outlier treatment\n",
    "The distribution has improved after the outlier treatment. There is still a tail but it is thick, that means there are many values in that range, hence, it is acceptable."
   ]
  },
  {
   "cell_type": "code",
   "execution_count": 61,
   "metadata": {},
   "outputs": [
    {
     "data": {
      "image/png": "[encoded data removed]",
      "text/plain": [
       "<Figure size 1440x1296 with 25 Axes>"
      ]
     },
     "metadata": {},
     "output_type": "display_data"
    }
   ],
   "source": [
    "# Plotting histograms of multiple columns together\n",
    "# Observe that ApplicantIncome and CoapplicantIncome has outliers\n",
    "NotNullData.hist(continous_predictor, figsize=(20,18));"
   ]
  },
  {
   "cell_type": "code",
   "execution_count": 62,
   "metadata": {},
   "outputs": [],
   "source": [
    "# trainCleanData['delinq_2yrs'].hist();"
   ]
  },
  {
   "cell_type": "code",
   "execution_count": 63,
   "metadata": {},
   "outputs": [],
   "source": [
    "# trainCleanData[trainCleanData['delinq_2yrs']<5]['delinq_2yrs'].hist();"
   ]
  },
  {
   "cell_type": "code",
   "execution_count": 64,
   "metadata": {},
   "outputs": [],
   "source": [
    "# trainCleanData['term'].value_counts()"
   ]
  },
  {
   "cell_type": "code",
   "execution_count": null,
   "metadata": {},
   "outputs": [],
   "source": []
  },
  {
   "cell_type": "markdown",
   "metadata": {},
   "source": [
    "# Feature Selection\n",
    "Now its time to finally choose the best columns(Features) which are correlated to the Target variable.\n",
    "This can be done directly by measuring the correlation values or ANOVA/Chi-Square tests. However, it is always helpful to visualize the relation between the Target variable and each of the predictors to get a better sense of data.\n",
    "\n",
    "I have listed below the techniques used for visualizing relationship between two variables as well as measuring the strength statistically."
   ]
  },
  {
   "cell_type": "markdown",
   "metadata": {},
   "source": [
    "# Statistical Feature Selection (Categorical Vs Continuous) using ANOVA test\n",
    "Analysis of variance(ANOVA) is performed to check if there is any relationship between the given continuous and categorical variable\n",
    "* Assumption(H0): There is NO relation between the given variables (i.e. The average(mean) values of the numeric Predictor variable is same for all the groups in the categorical Target variable)\n",
    "* ANOVA Test result: Probability of H0 being true"
   ]
  },
  {
   "cell_type": "code",
   "execution_count": 65,
   "metadata": {},
   "outputs": [],
   "source": [
    "# Defining a function to find the statistical relationship with all the categorical variables\n",
    "def FunctionAnova(inpData, TargetVariable, ContinuousPredictorList):\n",
    "    from scipy.stats import f_oneway\n",
    "\n",
    "    # Creating an empty list of final selected predictors\n",
    "    SelectedPredictors=[]\n",
    "    \n",
    "    print('##### ANOVA Results ##### \\n')\n",
    "    for predictor in ContinuousPredictorList:\n",
    "        CategoryGroupLists=inpData.groupby(TargetVariable)[predictor].apply(list)\n",
    "        AnovaResults = f_oneway(*CategoryGroupLists)\n",
    "        \n",
    "        # If the ANOVA P-Value is <0.05, that means we reject H0\n",
    "        if (AnovaResults[1] < 0.05):\n",
    "            print(predictor, 'is correlated with', TargetVariable, '| P-Value:', AnovaResults[1])\n",
    "            SelectedPredictors.append(predictor)\n",
    "        else:\n",
    "            print(predictor, 'is NOT correlated with', TargetVariable, '| P-Value:', AnovaResults[1])\n",
    "    \n",
    "    return(SelectedPredictors)"
   ]
  },
  {
   "cell_type": "code",
   "execution_count": 66,
   "metadata": {},
   "outputs": [
    {
     "name": "stdout",
     "output_type": "stream",
     "text": [
      "##### ANOVA Results ##### \n",
      "\n",
      "term is correlated with loan_status | P-Value: 0.0\n",
      "delinq_2yrs is correlated with loan_status | P-Value: 7.496352224082371e-249\n",
      "pub_rec is correlated with loan_status | P-Value: 2.149955878045385e-301\n",
      "open_acc is correlated with loan_status | P-Value: 0.0\n",
      "last_week_pay is correlated with loan_status | P-Value: 0.0\n",
      "total_acc is NOT correlated with loan_status | P-Value: 0.26534861648739666\n",
      "collections_12_mths_ex_med is correlated with loan_status | P-Value: 1.67764181469883e-131\n",
      "int_rate is NOT correlated with loan_status | P-Value: 0.09797751009972747\n",
      "revol_util is correlated with loan_status | P-Value: 3.932136235845422e-259\n",
      "funded_amnt is correlated with loan_status | P-Value: 0.0\n",
      "loan_amnt is correlated with loan_status | P-Value: 0.0\n",
      "dti is correlated with loan_status | P-Value: 0.0\n",
      "total_rec_late_fee is correlated with loan_status | P-Value: 0.002561098377556999\n",
      "funded_amnt_inv is correlated with loan_status | P-Value: 0.0\n",
      "tot_coll_amt is correlated with loan_status | P-Value: 0.0022953417195538347\n",
      "collection_recovery_fee is correlated with loan_status | P-Value: 3.5196930837424154e-212\n",
      "recoveries is correlated with loan_status | P-Value: 0.0\n",
      "acc_now_delinq is correlated with loan_status | P-Value: 6.995050834985186e-26\n",
      "total_rev_hi_lim is correlated with loan_status | P-Value: 0.0\n",
      "annual_inc is correlated with loan_status | P-Value: 1.0751783060389564e-12\n",
      "revol_bal is correlated with loan_status | P-Value: 0.0\n",
      "total_rec_int is correlated with loan_status | P-Value: 3.535801001385273e-216\n",
      "tot_cur_bal is correlated with loan_status | P-Value: 4.127016147242241e-102\n",
      "emp_length is correlated with loan_status | P-Value: 7.91407091545846e-93\n"
     ]
    },
    {
     "data": {
      "text/plain": [
       "['term',\n",
       " 'delinq_2yrs',\n",
       " 'pub_rec',\n",
       " 'open_acc',\n",
       " 'last_week_pay',\n",
       " 'collections_12_mths_ex_med',\n",
       " 'revol_util',\n",
       " 'funded_amnt',\n",
       " 'loan_amnt',\n",
       " 'dti',\n",
       " 'total_rec_late_fee',\n",
       " 'funded_amnt_inv',\n",
       " 'tot_coll_amt',\n",
       " 'collection_recovery_fee',\n",
       " 'recoveries',\n",
       " 'acc_now_delinq',\n",
       " 'total_rev_hi_lim',\n",
       " 'annual_inc',\n",
       " 'revol_bal',\n",
       " 'total_rec_int',\n",
       " 'tot_cur_bal',\n",
       " 'emp_length']"
      ]
     },
     "execution_count": 66,
     "metadata": {},
     "output_type": "execute_result"
    }
   ],
   "source": [
    "# Calling the function to check which categorical variables are correlated with target\n",
    "FunctionAnova(inpData=NotNullData, TargetVariable='loan_status', ContinuousPredictorList=continous_predictor)"
   ]
  },
  {
   "cell_type": "markdown",
   "metadata": {},
   "source": [
    "## Statistical Feature Selection (Categorical Vs Categorical) using Chi-Square Test\n",
    "\n",
    "Chi-Square test is conducted to check the correlation between two categorical variables\n",
    "\n",
    "* Assumption(H0): The two columns are NOT related to each other\n",
    "* Result of Chi-Sq Test: The Probability of H0 being True\n",
    "* More information on ChiSq: https://www.mathsisfun.com/data/chi-square-test.html"
   ]
  },
  {
   "cell_type": "code",
   "execution_count": 67,
   "metadata": {},
   "outputs": [],
   "source": [
    "# Writing a function to find the correlation of all categorical variables with the Target variable\n",
    "def FunctionChisq(inpData, TargetVariable, CategoricalVariablesList):\n",
    "    from scipy.stats import chi2_contingency\n",
    "    \n",
    "    # Creating an empty list of final selected predictors\n",
    "    SelectedPredictors=[]\n",
    "\n",
    "    for predictor in CategoricalVariablesList:\n",
    "        CrossTabResult=pd.crosstab(index=inpData[TargetVariable], columns=inpData[predictor])\n",
    "        ChiSqResult = chi2_contingency(CrossTabResult)\n",
    "        \n",
    "        # If the ChiSq P-Value is <0.05, that means we reject H0\n",
    "        if (ChiSqResult[1] < 0.05):\n",
    "            print(predictor, 'is correlated with', TargetVariable, '| P-Value:', ChiSqResult[1])\n",
    "            SelectedPredictors.append(predictor)\n",
    "        else:\n",
    "            print(predictor, 'is NOT correlated with', TargetVariable, '| P-Value:', ChiSqResult[1])        \n",
    "            \n",
    "    return(SelectedPredictors)"
   ]
  },
  {
   "cell_type": "code",
   "execution_count": 68,
   "metadata": {},
   "outputs": [
    {
     "name": "stdout",
     "output_type": "stream",
     "text": [
      "loan_status is correlated with loan_status | P-Value: 0.0\n",
      "application_type is correlated with loan_status | P-Value: 1.4876129290319924e-20\n",
      "initial_list_status is correlated with loan_status | P-Value: 0.0\n",
      "pymnt_plan is NOT correlated with loan_status | P-Value: 0.43217633115169873\n",
      "verification_status is correlated with loan_status | P-Value: 0.0\n",
      "home_ownership is correlated with loan_status | P-Value: 1.874269157615969e-109\n"
     ]
    },
    {
     "data": {
      "text/plain": [
       "['loan_status',\n",
       " 'application_type',\n",
       " 'initial_list_status',\n",
       " 'verification_status',\n",
       " 'home_ownership']"
      ]
     },
     "execution_count": 68,
     "metadata": {},
     "output_type": "execute_result"
    }
   ],
   "source": [
    "# Calling the function\n",
    "FunctionChisq(inpData=NotNullData, \n",
    "              TargetVariable='loan_status',\n",
    "              CategoricalVariablesList= categorical_predictor)"
   ]
  },
  {
   "cell_type": "markdown",
   "metadata": {},
   "source": [
    "# Selecting final predictors for Machine Learning\n",
    "Based on the above tests, selecting the final columns for machine learning"
   ]
  },
  {
   "cell_type": "code",
   "execution_count": 69,
   "metadata": {},
   "outputs": [
    {
     "data": {
      "text/html": [
       "<div>\n",
       "<style scoped>\n",
       "    .dataframe tbody tr th:only-of-type {\n",
       "        vertical-align: middle;\n",
       "    }\n",
       "\n",
       "    .dataframe tbody tr th {\n",
       "        vertical-align: top;\n",
       "    }\n",
       "\n",
       "    .dataframe thead th {\n",
       "        text-align: right;\n",
       "    }\n",
       "</style>\n",
       "<table border=\"1\" class=\"dataframe\">\n",
       "  <thead>\n",
       "    <tr style=\"text-align: right;\">\n",
       "      <th></th>\n",
       "      <th>member_id</th>\n",
       "      <th>delinq_2yrs</th>\n",
       "      <th>pub_rec</th>\n",
       "      <th>open_acc</th>\n",
       "      <th>last_week_pay</th>\n",
       "      <th>total_acc</th>\n",
       "      <th>int_rate</th>\n",
       "      <th>revol_util</th>\n",
       "      <th>funded_amnt</th>\n",
       "      <th>loan_amnt</th>\n",
       "      <th>dti</th>\n",
       "      <th>total_rec_late_fee</th>\n",
       "      <th>funded_amnt_inv</th>\n",
       "      <th>tot_coll_amt</th>\n",
       "      <th>collection_recovery_fee</th>\n",
       "      <th>recoveries</th>\n",
       "      <th>total_rev_hi_lim</th>\n",
       "      <th>annual_inc</th>\n",
       "      <th>revol_bal</th>\n",
       "      <th>total_rec_int</th>\n",
       "      <th>tot_cur_bal</th>\n",
       "      <th>application_type</th>\n",
       "      <th>term</th>\n",
       "      <th>initial_list_status</th>\n",
       "      <th>verification_status</th>\n",
       "      <th>home_ownership</th>\n",
       "      <th>acc_now_delinq</th>\n",
       "      <th>collections_12_mths_ex_med</th>\n",
       "      <th>emp_length</th>\n",
       "      <th>loan_status</th>\n",
       "      <th>TrainTest</th>\n",
       "    </tr>\n",
       "  </thead>\n",
       "  <tbody>\n",
       "    <tr>\n",
       "      <th>0</th>\n",
       "      <td>58189336</td>\n",
       "      <td>0.0</td>\n",
       "      <td>1.0</td>\n",
       "      <td>14.0</td>\n",
       "      <td>26</td>\n",
       "      <td>28.0</td>\n",
       "      <td>19.19</td>\n",
       "      <td>73.1</td>\n",
       "      <td>14350</td>\n",
       "      <td>14350</td>\n",
       "      <td>33.88</td>\n",
       "      <td>0.0</td>\n",
       "      <td>14350.0</td>\n",
       "      <td>0.0</td>\n",
       "      <td>0.0</td>\n",
       "      <td>0.0</td>\n",
       "      <td>30800.0</td>\n",
       "      <td>28700.0</td>\n",
       "      <td>22515.0</td>\n",
       "      <td>1173.84</td>\n",
       "      <td>28699.0</td>\n",
       "      <td>INDIVIDUAL</td>\n",
       "      <td>36</td>\n",
       "      <td>f</td>\n",
       "      <td>Source Verified</td>\n",
       "      <td>OWN</td>\n",
       "      <td>0.0</td>\n",
       "      <td>0.0</td>\n",
       "      <td>9</td>\n",
       "      <td>0</td>\n",
       "      <td>1</td>\n",
       "    </tr>\n",
       "    <tr>\n",
       "      <th>1</th>\n",
       "      <td>70011223</td>\n",
       "      <td>0.0</td>\n",
       "      <td>0.0</td>\n",
       "      <td>6.0</td>\n",
       "      <td>9</td>\n",
       "      <td>13.0</td>\n",
       "      <td>10.99</td>\n",
       "      <td>23.2</td>\n",
       "      <td>4800</td>\n",
       "      <td>4800</td>\n",
       "      <td>3.64</td>\n",
       "      <td>0.0</td>\n",
       "      <td>4800.0</td>\n",
       "      <td>0.0</td>\n",
       "      <td>0.0</td>\n",
       "      <td>0.0</td>\n",
       "      <td>32900.0</td>\n",
       "      <td>65000.0</td>\n",
       "      <td>7624.0</td>\n",
       "      <td>83.95</td>\n",
       "      <td>9974.0</td>\n",
       "      <td>INDIVIDUAL</td>\n",
       "      <td>36</td>\n",
       "      <td>w</td>\n",
       "      <td>Source Verified</td>\n",
       "      <td>MORTGAGE</td>\n",
       "      <td>0.0</td>\n",
       "      <td>0.0</td>\n",
       "      <td>1</td>\n",
       "      <td>0</td>\n",
       "      <td>1</td>\n",
       "    </tr>\n",
       "    <tr>\n",
       "      <th>2</th>\n",
       "      <td>70255675</td>\n",
       "      <td>0.0</td>\n",
       "      <td>0.0</td>\n",
       "      <td>5.0</td>\n",
       "      <td>9</td>\n",
       "      <td>19.0</td>\n",
       "      <td>7.26</td>\n",
       "      <td>31.2</td>\n",
       "      <td>10000</td>\n",
       "      <td>10000</td>\n",
       "      <td>18.42</td>\n",
       "      <td>0.0</td>\n",
       "      <td>10000.0</td>\n",
       "      <td>65.0</td>\n",
       "      <td>0.0</td>\n",
       "      <td>0.0</td>\n",
       "      <td>34900.0</td>\n",
       "      <td>45000.0</td>\n",
       "      <td>10877.0</td>\n",
       "      <td>56.47</td>\n",
       "      <td>38295.0</td>\n",
       "      <td>INDIVIDUAL</td>\n",
       "      <td>36</td>\n",
       "      <td>w</td>\n",
       "      <td>Not Verified</td>\n",
       "      <td>OWN</td>\n",
       "      <td>0.0</td>\n",
       "      <td>0.0</td>\n",
       "      <td>2</td>\n",
       "      <td>0</td>\n",
       "      <td>1</td>\n",
       "    </tr>\n",
       "    <tr>\n",
       "      <th>3</th>\n",
       "      <td>1893936</td>\n",
       "      <td>0.0</td>\n",
       "      <td>0.0</td>\n",
       "      <td>10.0</td>\n",
       "      <td>135</td>\n",
       "      <td>21.0</td>\n",
       "      <td>19.72</td>\n",
       "      <td>55.5</td>\n",
       "      <td>15000</td>\n",
       "      <td>15000</td>\n",
       "      <td>14.97</td>\n",
       "      <td>0.0</td>\n",
       "      <td>15000.0</td>\n",
       "      <td>0.0</td>\n",
       "      <td>0.0</td>\n",
       "      <td>0.0</td>\n",
       "      <td>24700.0</td>\n",
       "      <td>105000.0</td>\n",
       "      <td>13712.0</td>\n",
       "      <td>4858.62</td>\n",
       "      <td>55564.0</td>\n",
       "      <td>INDIVIDUAL</td>\n",
       "      <td>36</td>\n",
       "      <td>f</td>\n",
       "      <td>Not Verified</td>\n",
       "      <td>RENT</td>\n",
       "      <td>0.0</td>\n",
       "      <td>0.0</td>\n",
       "      <td>10</td>\n",
       "      <td>0</td>\n",
       "      <td>1</td>\n",
       "    </tr>\n",
       "    <tr>\n",
       "      <th>4</th>\n",
       "      <td>7652106</td>\n",
       "      <td>0.0</td>\n",
       "      <td>0.0</td>\n",
       "      <td>11.0</td>\n",
       "      <td>96</td>\n",
       "      <td>27.0</td>\n",
       "      <td>10.64</td>\n",
       "      <td>76.2</td>\n",
       "      <td>16000</td>\n",
       "      <td>16000</td>\n",
       "      <td>20.16</td>\n",
       "      <td>0.0</td>\n",
       "      <td>16000.0</td>\n",
       "      <td>0.0</td>\n",
       "      <td>0.0</td>\n",
       "      <td>0.0</td>\n",
       "      <td>47033.0</td>\n",
       "      <td>52000.0</td>\n",
       "      <td>35835.0</td>\n",
       "      <td>2296.41</td>\n",
       "      <td>47159.0</td>\n",
       "      <td>INDIVIDUAL</td>\n",
       "      <td>36</td>\n",
       "      <td>w</td>\n",
       "      <td>Verified</td>\n",
       "      <td>RENT</td>\n",
       "      <td>0.0</td>\n",
       "      <td>0.0</td>\n",
       "      <td>10</td>\n",
       "      <td>0</td>\n",
       "      <td>1</td>\n",
       "    </tr>\n",
       "  </tbody>\n",
       "</table>\n",
       "</div>"
      ],
      "text/plain": [
       "   member_id  delinq_2yrs  pub_rec  open_acc last_week_pay  total_acc  \\\n",
       "0   58189336          0.0      1.0      14.0            26       28.0   \n",
       "1   70011223          0.0      0.0       6.0             9       13.0   \n",
       "2   70255675          0.0      0.0       5.0             9       19.0   \n",
       "3    1893936          0.0      0.0      10.0           135       21.0   \n",
       "4    7652106          0.0      0.0      11.0            96       27.0   \n",
       "\n",
       "   int_rate  revol_util  funded_amnt  loan_amnt    dti  total_rec_late_fee  \\\n",
       "0     19.19        73.1        14350      14350  33.88                 0.0   \n",
       "1     10.99        23.2         4800       4800   3.64                 0.0   \n",
       "2      7.26        31.2        10000      10000  18.42                 0.0   \n",
       "3     19.72        55.5        15000      15000  14.97                 0.0   \n",
       "4     10.64        76.2        16000      16000  20.16                 0.0   \n",
       "\n",
       "   funded_amnt_inv  tot_coll_amt  collection_recovery_fee  recoveries  \\\n",
       "0          14350.0           0.0                      0.0         0.0   \n",
       "1           4800.0           0.0                      0.0         0.0   \n",
       "2          10000.0          65.0                      0.0         0.0   \n",
       "3          15000.0           0.0                      0.0         0.0   \n",
       "4          16000.0           0.0                      0.0         0.0   \n",
       "\n",
       "   total_rev_hi_lim  annual_inc  revol_bal  total_rec_int  tot_cur_bal  \\\n",
       "0           30800.0     28700.0    22515.0        1173.84      28699.0   \n",
       "1           32900.0     65000.0     7624.0          83.95       9974.0   \n",
       "2           34900.0     45000.0    10877.0          56.47      38295.0   \n",
       "3           24700.0    105000.0    13712.0        4858.62      55564.0   \n",
       "4           47033.0     52000.0    35835.0        2296.41      47159.0   \n",
       "\n",
       "  application_type term initial_list_status verification_status  \\\n",
       "0       INDIVIDUAL   36                   f     Source Verified   \n",
       "1       INDIVIDUAL   36                   w     Source Verified   \n",
       "2       INDIVIDUAL   36                   w        Not Verified   \n",
       "3       INDIVIDUAL   36                   f        Not Verified   \n",
       "4       INDIVIDUAL   36                   w            Verified   \n",
       "\n",
       "  home_ownership  acc_now_delinq  collections_12_mths_ex_med emp_length  \\\n",
       "0            OWN             0.0                         0.0          9   \n",
       "1       MORTGAGE             0.0                         0.0          1   \n",
       "2            OWN             0.0                         0.0          2   \n",
       "3           RENT             0.0                         0.0         10   \n",
       "4           RENT             0.0                         0.0         10   \n",
       "\n",
       "   loan_status  TrainTest  \n",
       "0            0          1  \n",
       "1            0          1  \n",
       "2            0          1  \n",
       "3            0          1  \n",
       "4            0          1  "
      ]
     },
     "execution_count": 69,
     "metadata": {},
     "output_type": "execute_result"
    }
   ],
   "source": [
    "SelectedColumns=['member_id',\n",
    "                 'delinq_2yrs',\n",
    " 'pub_rec',\n",
    " 'open_acc',\n",
    " 'last_week_pay',\n",
    " 'total_acc',\n",
    " 'int_rate',\n",
    " 'revol_util',\n",
    " 'funded_amnt',\n",
    " 'loan_amnt',\n",
    " 'dti',\n",
    " 'total_rec_late_fee',\n",
    " 'funded_amnt_inv',\n",
    " 'tot_coll_amt',\n",
    " 'collection_recovery_fee',\n",
    " 'recoveries',\n",
    " 'total_rev_hi_lim',\n",
    " 'annual_inc',\n",
    " 'revol_bal',\n",
    " 'total_rec_int',\n",
    " 'tot_cur_bal',\n",
    " 'application_type',\n",
    " 'term',\n",
    " 'initial_list_status',\n",
    " 'verification_status',\n",
    " 'home_ownership',\n",
    " 'acc_now_delinq',\n",
    " 'collections_12_mths_ex_med',\n",
    " 'emp_length',\n",
    "'loan_status','TrainTest']\n",
    "\n",
    "# Selecting final columns\n",
    "DataForML=NotNullData[SelectedColumns]\n",
    "DataForML.head()"
   ]
  },
  {
   "cell_type": "code",
   "execution_count": 70,
   "metadata": {},
   "outputs": [
    {
     "data": {
      "text/plain": [
       "(886764, 31)"
      ]
     },
     "execution_count": 70,
     "metadata": {},
     "output_type": "execute_result"
    }
   ],
   "source": [
    "DataForML.shape"
   ]
  },
  {
   "cell_type": "markdown",
   "metadata": {},
   "source": [
    "## Data Pre-processing for Machine Learning\n",
    "List of steps performed on predictor variables before data can be used for machine learning\n",
    "1. Converting each Ordinal Categorical columns to numeric\n",
    "2. Converting Binary nominal Categorical columns to numeric using 1/0 mapping\n",
    "3. Converting all other nominal categorical columns to numeric using pd.get_dummies()\n",
    "4. Data Transformation (Optional): Standardization/Normalization/log/sqrt. Important if you are using distance based algorithms like KNN, or Neural Networks"
   ]
  },
  {
   "cell_type": "code",
   "execution_count": 71,
   "metadata": {},
   "outputs": [],
   "source": [
    "# DataForML.nunique().sort_values()"
   ]
  },
  {
   "cell_type": "code",
   "execution_count": 72,
   "metadata": {},
   "outputs": [
    {
     "name": "stderr",
     "output_type": "stream",
     "text": [
      "/home/dinesh/anaconda3/lib/python3.8/site-packages/pandas/core/series.py:4563: SettingWithCopyWarning: \n",
      "A value is trying to be set on a copy of a slice from a DataFrame\n",
      "\n",
      "See the caveats in the documentation: https://pandas.pydata.org/pandas-docs/stable/user_guide/indexing.html#returning-a-view-versus-a-copy\n",
      "  return super().replace(\n"
     ]
    }
   ],
   "source": [
    "# Converting the binary nominal variable sex to numeric\n",
    "DataForML['initial_list_status'].replace({'w':0, 'f':1}, inplace=True)"
   ]
  },
  {
   "cell_type": "code",
   "execution_count": 73,
   "metadata": {},
   "outputs": [],
   "source": [
    "# Converting the binary nominal variable sex to numeric\n",
    "DataForML['application_type'].replace({'JOINT':0, 'INDIVIDUAL':1}, inplace=True)"
   ]
  },
  {
   "cell_type": "code",
   "execution_count": 74,
   "metadata": {},
   "outputs": [
    {
     "name": "stderr",
     "output_type": "stream",
     "text": [
      "<ipython-input-74-9db9a4714c5c>:1: SettingWithCopyWarning: \n",
      "A value is trying to be set on a copy of a slice from a DataFrame.\n",
      "Try using .loc[row_indexer,col_indexer] = value instead\n",
      "\n",
      "See the caveats in the documentation: https://pandas.pydata.org/pandas-docs/stable/user_guide/indexing.html#returning-a-view-versus-a-copy\n",
      "  DataForML['verification_status'] = DataForML['verification_status'].map({'Not Verified': 1,\n"
     ]
    }
   ],
   "source": [
    "DataForML['verification_status'] = DataForML['verification_status'].map({'Not Verified': 1,\n",
    "                                                                         'Verified': 2,\n",
    "                                                                         'Source Verified': 3})"
   ]
  },
  {
   "cell_type": "code",
   "execution_count": 75,
   "metadata": {},
   "outputs": [
    {
     "name": "stderr",
     "output_type": "stream",
     "text": [
      "<ipython-input-75-20f03eaebcc6>:1: SettingWithCopyWarning: \n",
      "A value is trying to be set on a copy of a slice from a DataFrame.\n",
      "Try using .loc[row_indexer,col_indexer] = value instead\n",
      "\n",
      "See the caveats in the documentation: https://pandas.pydata.org/pandas-docs/stable/user_guide/indexing.html#returning-a-view-versus-a-copy\n",
      "  DataForML['home_ownership'] = DataForML['home_ownership'].map({'OTHER':0,\n"
     ]
    }
   ],
   "source": [
    "DataForML['home_ownership'] = DataForML['home_ownership'].map({'OTHER':0,\n",
    "                                                               'OWN': 1,\n",
    "                                                               'RENT': 2,\n",
    "                                                               'MORTGAGE': 3})"
   ]
  },
  {
   "cell_type": "code",
   "execution_count": null,
   "metadata": {},
   "outputs": [],
   "source": []
  },
  {
   "cell_type": "code",
   "execution_count": null,
   "metadata": {},
   "outputs": [],
   "source": []
  },
  {
   "cell_type": "code",
   "execution_count": 76,
   "metadata": {},
   "outputs": [
    {
     "data": {
      "text/plain": [
       "0.0     875086\n",
       "1.0      10821\n",
       "2.0        732\n",
       "3.0         88\n",
       "4.0         23\n",
       "5.0          7\n",
       "6.0          2\n",
       "7.0          1\n",
       "20.0         1\n",
       "16.0         1\n",
       "14.0         1\n",
       "10.0         1\n",
       "Name: collections_12_mths_ex_med, dtype: int64"
      ]
     },
     "execution_count": 76,
     "metadata": {},
     "output_type": "execute_result"
    }
   ],
   "source": [
    "DataForML['collections_12_mths_ex_med'].value_counts()"
   ]
  },
  {
   "cell_type": "code",
   "execution_count": 77,
   "metadata": {},
   "outputs": [],
   "source": [
    "# DataForML.head(15).T"
   ]
  },
  {
   "cell_type": "markdown",
   "metadata": {},
   "source": [
    "# Standardization/Normalization of data\n",
    "You can choose not to run this step if you want to compare the resultant accuracy of this transformation with the accuracy of raw data."
   ]
  },
  {
   "cell_type": "code",
   "execution_count": 78,
   "metadata": {},
   "outputs": [
    {
     "name": "stderr",
     "output_type": "stream",
     "text": [
      "/home/dinesh/anaconda3/lib/python3.8/site-packages/pandas/core/indexing.py:1736: SettingWithCopyWarning: \n",
      "A value is trying to be set on a copy of a slice from a DataFrame.\n",
      "Try using .loc[row_indexer,col_indexer] = value instead\n",
      "\n",
      "See the caveats in the documentation: https://pandas.pydata.org/pandas-docs/stable/user_guide/indexing.html#returning-a-view-versus-a-copy\n",
      "  isetter(loc, value[:, i].tolist())\n"
     ]
    },
    {
     "data": {
      "text/html": [
       "<div>\n",
       "<style scoped>\n",
       "    .dataframe tbody tr th:only-of-type {\n",
       "        vertical-align: middle;\n",
       "    }\n",
       "\n",
       "    .dataframe tbody tr th {\n",
       "        vertical-align: top;\n",
       "    }\n",
       "\n",
       "    .dataframe thead th {\n",
       "        text-align: right;\n",
       "    }\n",
       "</style>\n",
       "<table border=\"1\" class=\"dataframe\">\n",
       "  <thead>\n",
       "    <tr style=\"text-align: right;\">\n",
       "      <th></th>\n",
       "      <th>member_id</th>\n",
       "      <th>delinq_2yrs</th>\n",
       "      <th>pub_rec</th>\n",
       "      <th>open_acc</th>\n",
       "      <th>last_week_pay</th>\n",
       "      <th>total_acc</th>\n",
       "      <th>int_rate</th>\n",
       "      <th>revol_util</th>\n",
       "      <th>funded_amnt</th>\n",
       "      <th>loan_amnt</th>\n",
       "      <th>dti</th>\n",
       "      <th>total_rec_late_fee</th>\n",
       "      <th>funded_amnt_inv</th>\n",
       "      <th>tot_coll_amt</th>\n",
       "      <th>collection_recovery_fee</th>\n",
       "      <th>recoveries</th>\n",
       "      <th>total_rev_hi_lim</th>\n",
       "      <th>annual_inc</th>\n",
       "      <th>revol_bal</th>\n",
       "      <th>total_rec_int</th>\n",
       "      <th>tot_cur_bal</th>\n",
       "      <th>application_type</th>\n",
       "      <th>term</th>\n",
       "      <th>initial_list_status</th>\n",
       "      <th>verification_status</th>\n",
       "      <th>home_ownership</th>\n",
       "      <th>acc_now_delinq</th>\n",
       "      <th>collections_12_mths_ex_med</th>\n",
       "      <th>emp_length</th>\n",
       "      <th>loan_status</th>\n",
       "      <th>TrainTest</th>\n",
       "    </tr>\n",
       "  </thead>\n",
       "  <tbody>\n",
       "    <tr>\n",
       "      <th>0</th>\n",
       "      <td>58189336</td>\n",
       "      <td>-0.403163</td>\n",
       "      <td>1.464110</td>\n",
       "      <td>0.463995</td>\n",
       "      <td>-0.726118</td>\n",
       "      <td>0.232027</td>\n",
       "      <td>1.356539</td>\n",
       "      <td>0.757412</td>\n",
       "      <td>-0.046825</td>\n",
       "      <td>-0.048376</td>\n",
       "      <td>1.896413</td>\n",
       "      <td>-0.096897</td>\n",
       "      <td>-0.042188</td>\n",
       "      <td>-0.021006</td>\n",
       "      <td>-0.077292</td>\n",
       "      <td>-0.112052</td>\n",
       "      <td>0.044073</td>\n",
       "      <td>-1.149474</td>\n",
       "      <td>0.461075</td>\n",
       "      <td>-0.284835</td>\n",
       "      <td>-0.797727</td>\n",
       "      <td>0.024012</td>\n",
       "      <td>-0.654845</td>\n",
       "      <td>0.971023</td>\n",
       "      <td>1.137627</td>\n",
       "      <td>-2.114652</td>\n",
       "      <td>-0.064278</td>\n",
       "      <td>-0.107171</td>\n",
       "      <td>0.844833</td>\n",
       "      <td>0</td>\n",
       "      <td>1</td>\n",
       "    </tr>\n",
       "    <tr>\n",
       "      <th>1</th>\n",
       "      <td>70011223</td>\n",
       "      <td>-0.403163</td>\n",
       "      <td>-0.353652</td>\n",
       "      <td>-1.049636</td>\n",
       "      <td>-1.113241</td>\n",
       "      <td>-1.039831</td>\n",
       "      <td>-0.514838</td>\n",
       "      <td>-1.338398</td>\n",
       "      <td>-1.179858</td>\n",
       "      <td>-1.180662</td>\n",
       "      <td>-1.745797</td>\n",
       "      <td>-0.096897</td>\n",
       "      <td>-1.173700</td>\n",
       "      <td>-0.021006</td>\n",
       "      <td>-0.077292</td>\n",
       "      <td>-0.112052</td>\n",
       "      <td>0.139634</td>\n",
       "      <td>-0.204361</td>\n",
       "      <td>-0.591521</td>\n",
       "      <td>-0.848289</td>\n",
       "      <td>-0.944989</td>\n",
       "      <td>0.024012</td>\n",
       "      <td>-0.654845</td>\n",
       "      <td>-1.029842</td>\n",
       "      <td>1.137627</td>\n",
       "      <td>0.904545</td>\n",
       "      <td>-0.064278</td>\n",
       "      <td>-0.107171</td>\n",
       "      <td>-1.476454</td>\n",
       "      <td>0</td>\n",
       "      <td>1</td>\n",
       "    </tr>\n",
       "    <tr>\n",
       "      <th>2</th>\n",
       "      <td>70255675</td>\n",
       "      <td>-0.403163</td>\n",
       "      <td>-0.353652</td>\n",
       "      <td>-1.238840</td>\n",
       "      <td>-1.113241</td>\n",
       "      <td>-0.531088</td>\n",
       "      <td>-1.366086</td>\n",
       "      <td>-1.002397</td>\n",
       "      <td>-0.562918</td>\n",
       "      <td>-0.564130</td>\n",
       "      <td>0.034357</td>\n",
       "      <td>-0.096897</td>\n",
       "      <td>-0.557589</td>\n",
       "      <td>-0.014439</td>\n",
       "      <td>-0.077292</td>\n",
       "      <td>-0.112052</td>\n",
       "      <td>0.230644</td>\n",
       "      <td>-0.725085</td>\n",
       "      <td>-0.361577</td>\n",
       "      <td>-0.862495</td>\n",
       "      <td>-0.722260</td>\n",
       "      <td>0.024012</td>\n",
       "      <td>-0.654845</td>\n",
       "      <td>-1.029842</td>\n",
       "      <td>-1.311391</td>\n",
       "      <td>-2.114652</td>\n",
       "      <td>-0.064278</td>\n",
       "      <td>-0.107171</td>\n",
       "      <td>-1.186293</td>\n",
       "      <td>0</td>\n",
       "      <td>1</td>\n",
       "    </tr>\n",
       "    <tr>\n",
       "      <th>3</th>\n",
       "      <td>1893936</td>\n",
       "      <td>-0.403163</td>\n",
       "      <td>-0.353652</td>\n",
       "      <td>-0.292821</td>\n",
       "      <td>1.756022</td>\n",
       "      <td>-0.361506</td>\n",
       "      <td>1.477493</td>\n",
       "      <td>0.018209</td>\n",
       "      <td>0.030293</td>\n",
       "      <td>0.028690</td>\n",
       "      <td>-0.381173</td>\n",
       "      <td>-0.096897</td>\n",
       "      <td>0.034826</td>\n",
       "      <td>-0.021006</td>\n",
       "      <td>-0.077292</td>\n",
       "      <td>-0.112052</td>\n",
       "      <td>-0.233508</td>\n",
       "      <td>0.837086</td>\n",
       "      <td>-0.161181</td>\n",
       "      <td>1.620129</td>\n",
       "      <td>-0.586449</td>\n",
       "      <td>0.024012</td>\n",
       "      <td>-0.654845</td>\n",
       "      <td>0.971023</td>\n",
       "      <td>-1.311391</td>\n",
       "      <td>-0.605054</td>\n",
       "      <td>-0.064278</td>\n",
       "      <td>-0.107171</td>\n",
       "      <td>1.134994</td>\n",
       "      <td>0</td>\n",
       "      <td>1</td>\n",
       "    </tr>\n",
       "    <tr>\n",
       "      <th>4</th>\n",
       "      <td>7652106</td>\n",
       "      <td>-0.403163</td>\n",
       "      <td>-0.353652</td>\n",
       "      <td>-0.103617</td>\n",
       "      <td>0.867917</td>\n",
       "      <td>0.147237</td>\n",
       "      <td>-0.594714</td>\n",
       "      <td>0.887613</td>\n",
       "      <td>0.148935</td>\n",
       "      <td>0.147254</td>\n",
       "      <td>0.243929</td>\n",
       "      <td>-0.096897</td>\n",
       "      <td>0.153309</td>\n",
       "      <td>-0.021006</td>\n",
       "      <td>-0.077292</td>\n",
       "      <td>-0.112052</td>\n",
       "      <td>0.782758</td>\n",
       "      <td>-0.542831</td>\n",
       "      <td>1.402622</td>\n",
       "      <td>0.295513</td>\n",
       "      <td>-0.652550</td>\n",
       "      <td>0.024012</td>\n",
       "      <td>-0.654845</td>\n",
       "      <td>-1.029842</td>\n",
       "      <td>-0.086882</td>\n",
       "      <td>-0.605054</td>\n",
       "      <td>-0.064278</td>\n",
       "      <td>-0.107171</td>\n",
       "      <td>1.134994</td>\n",
       "      <td>0</td>\n",
       "      <td>1</td>\n",
       "    </tr>\n",
       "  </tbody>\n",
       "</table>\n",
       "</div>"
      ],
      "text/plain": [
       "   member_id  delinq_2yrs   pub_rec  open_acc  last_week_pay  total_acc  \\\n",
       "0   58189336    -0.403163  1.464110  0.463995      -0.726118   0.232027   \n",
       "1   70011223    -0.403163 -0.353652 -1.049636      -1.113241  -1.039831   \n",
       "2   70255675    -0.403163 -0.353652 -1.238840      -1.113241  -0.531088   \n",
       "3    1893936    -0.403163 -0.353652 -0.292821       1.756022  -0.361506   \n",
       "4    7652106    -0.403163 -0.353652 -0.103617       0.867917   0.147237   \n",
       "\n",
       "   int_rate  revol_util  funded_amnt  loan_amnt       dti  total_rec_late_fee  \\\n",
       "0  1.356539    0.757412    -0.046825  -0.048376  1.896413           -0.096897   \n",
       "1 -0.514838   -1.338398    -1.179858  -1.180662 -1.745797           -0.096897   \n",
       "2 -1.366086   -1.002397    -0.562918  -0.564130  0.034357           -0.096897   \n",
       "3  1.477493    0.018209     0.030293   0.028690 -0.381173           -0.096897   \n",
       "4 -0.594714    0.887613     0.148935   0.147254  0.243929           -0.096897   \n",
       "\n",
       "   funded_amnt_inv  tot_coll_amt  collection_recovery_fee  recoveries  \\\n",
       "0        -0.042188     -0.021006                -0.077292   -0.112052   \n",
       "1        -1.173700     -0.021006                -0.077292   -0.112052   \n",
       "2        -0.557589     -0.014439                -0.077292   -0.112052   \n",
       "3         0.034826     -0.021006                -0.077292   -0.112052   \n",
       "4         0.153309     -0.021006                -0.077292   -0.112052   \n",
       "\n",
       "   total_rev_hi_lim  annual_inc  revol_bal  total_rec_int  tot_cur_bal  \\\n",
       "0          0.044073   -1.149474   0.461075      -0.284835    -0.797727   \n",
       "1          0.139634   -0.204361  -0.591521      -0.848289    -0.944989   \n",
       "2          0.230644   -0.725085  -0.361577      -0.862495    -0.722260   \n",
       "3         -0.233508    0.837086  -0.161181       1.620129    -0.586449   \n",
       "4          0.782758   -0.542831   1.402622       0.295513    -0.652550   \n",
       "\n",
       "   application_type      term  initial_list_status  verification_status  \\\n",
       "0          0.024012 -0.654845             0.971023             1.137627   \n",
       "1          0.024012 -0.654845            -1.029842             1.137627   \n",
       "2          0.024012 -0.654845            -1.029842            -1.311391   \n",
       "3          0.024012 -0.654845             0.971023            -1.311391   \n",
       "4          0.024012 -0.654845            -1.029842            -0.086882   \n",
       "\n",
       "   home_ownership  acc_now_delinq  collections_12_mths_ex_med  emp_length  \\\n",
       "0       -2.114652       -0.064278                   -0.107171    0.844833   \n",
       "1        0.904545       -0.064278                   -0.107171   -1.476454   \n",
       "2       -2.114652       -0.064278                   -0.107171   -1.186293   \n",
       "3       -0.605054       -0.064278                   -0.107171    1.134994   \n",
       "4       -0.605054       -0.064278                   -0.107171    1.134994   \n",
       "\n",
       "   loan_status  TrainTest  \n",
       "0            0          1  \n",
       "1            0          1  \n",
       "2            0          1  \n",
       "3            0          1  \n",
       "4            0          1  "
      ]
     },
     "execution_count": 78,
     "metadata": {},
     "output_type": "execute_result"
    }
   ],
   "source": [
    "### Sandardization of data ###\n",
    "from sklearn.preprocessing import StandardScaler, MinMaxScaler\n",
    "\n",
    "# Standardize the Variables\n",
    "scaler = StandardScaler()\n",
    "\n",
    "DataForML.iloc[:,1:-2] = scaler.fit_transform(DataForML.iloc[:,1:-2])\n",
    "DataForML.head()"
   ]
  },
  {
   "cell_type": "markdown",
   "metadata": {},
   "source": [
    "## After data preprocess, again split the data into train and test set"
   ]
  },
  {
   "cell_type": "code",
   "execution_count": 79,
   "metadata": {},
   "outputs": [
    {
     "name": "stdout",
     "output_type": "stream",
     "text": [
      "(532065, 29)    (354699, 29)\n"
     ]
    }
   ],
   "source": [
    "train = DataForML[DataForML['TrainTest'] == 1]\n",
    "test = DataForML[DataForML['TrainTest'] == 0]\n",
    "\n",
    "train = train.drop(['member_id','TrainTest'], axis=1)\n",
    "test = test.drop(['loan_status','TrainTest'], axis=1)\n",
    "\n",
    "print(train.shape, \"  \", test.shape)"
   ]
  },
  {
   "cell_type": "markdown",
   "metadata": {},
   "source": [
    "# Machine Learning\n",
    "We dont use the full data for creating the model. Some data is randomly selected and kept aside for checking how good the model is. This is known as Testing Data and the remaining data is called Training data on which the model is built. Typically 70% of data is used as Training data and the rest 30% is used as Tesing data."
   ]
  },
  {
   "cell_type": "code",
   "execution_count": 80,
   "metadata": {},
   "outputs": [],
   "source": [
    "# Separate Target Variable and Predictor Variables\n",
    "TargetVariable = 'loan_status'\n",
    "Predictors = train.columns[:-1]\n",
    "\n",
    "X = train[Predictors].values\n",
    "y = train[TargetVariable].values\n",
    "\n",
    "# # Split the data into training and testing set\n",
    "# from sklearn.model_selection import train_test_split\n",
    "# X_train, X_test, y_train, y_test = train_test_split(X, y, test_size=0.3, random_state=428)"
   ]
  },
  {
   "cell_type": "code",
   "execution_count": 81,
   "metadata": {},
   "outputs": [],
   "source": [
    "\n",
    "# # Choose either standardization or Normalization\n",
    "# # On this data Min Max Normalization produced better results\n",
    "\n",
    "# # Choose between standardization and MinMAx normalization\n",
    "# #PredictorScaler=StandardScaler()\n",
    "# PredictorScaler = MinMaxScaler()\n",
    "\n",
    "# # Storing the fit object for later reference\n",
    "# PredictorScalerFit = PredictorScaler.fit(X)\n",
    "\n",
    "# # Generating the standardized values of X\n",
    "# X = PredictorScalerFit.transform(X)"
   ]
  },
  {
   "cell_type": "code",
   "execution_count": 90,
   "metadata": {},
   "outputs": [],
   "source": [
    "# Split the data into training and testing set\n",
    "from sklearn.model_selection import train_test_split\n",
    "X_train, X_test, y_train, y_test = train_test_split(X, y, test_size=0.3, random_state=42)"
   ]
  },
  {
   "cell_type": "code",
   "execution_count": 91,
   "metadata": {},
   "outputs": [
    {
     "name": "stdout",
     "output_type": "stream",
     "text": [
      "(372445, 28)\n",
      "(372445,)\n",
      "(159620, 28)\n",
      "(159620,)\n"
     ]
    }
   ],
   "source": [
    "# Sanity check for the sampled data\n",
    "print(X_train.shape)\n",
    "print(y_train.shape)\n",
    "print(X_test.shape)\n",
    "print(y_test.shape)"
   ]
  },
  {
   "cell_type": "markdown",
   "metadata": {},
   "source": [
    "## Build Various Models & choose best one"
   ]
  },
  {
   "cell_type": "code",
   "execution_count": 92,
   "metadata": {},
   "outputs": [],
   "source": [
    "model_lst = []\n",
    "accuracy_lst = []\n",
    "auc_lst = []"
   ]
  },
  {
   "cell_type": "markdown",
   "metadata": {},
   "source": [
    "# Logistic Regression"
   ]
  },
  {
   "cell_type": "code",
   "execution_count": 86,
   "metadata": {},
   "outputs": [],
   "source": [
    "# Logistic Regression\n",
    "from sklearn.linear_model import LogisticRegression\n",
    "from sklearn import metrics"
   ]
  },
  {
   "cell_type": "code",
   "execution_count": null,
   "metadata": {},
   "outputs": [],
   "source": [
    "# Logistic Regression\n",
    "model_lst.append('Logistic Regression')\n",
    "\n",
    "log_reg_params = {\"solver\": ['saga'],\n",
    "                  \"penalty\": ['l1', 'l2'], \n",
    "                  'C':  [0.01, 0.1, 1, 10, 100], \n",
    "                  \"max_iter\" : [100000]},\n",
    "\n",
    "lr = GridSearchCV(LogisticRegression(), log_reg_params)\n",
    "lr.fit(X_train, y_train)\n",
    "y_pred_log_reg = lr.predict(X_test)\n",
    "\n",
    "# Logistic Regression best estimator\n",
    "print(\"Logistic Regression best estimator : \\n\",lr.best_estimator_)\n",
    "\n",
    "# calculate accuracy\n",
    "acc_log_reg = round( metrics.accuracy_score(y_pred_log_reg , y_test) * 100, 2)\n",
    "accuracy_lst.append(acc_log_reg)\n",
    "\n",
    "# calculate auc\n",
    "Aucs = metrics.roc_auc_score(y_test , y_pred_log_reg)\n",
    "auc_lst.append(Aucs)\n",
    "\n",
    "# calculate precision\n",
    "PrecisionScore = metrics.precision_score(y_test , y_pred_log_reg)\n",
    "\n",
    "# calculate recall\n",
    "RecallScore = metrics.recall_score(y_test , y_pred_log_reg)\n",
    "\n",
    "# calculate f1 score\n",
    "F1Score = metrics.f1_score(y_test , y_pred_log_reg)\n",
    "\n",
    "# draw confusion matrix\n",
    "cnf_matrix = metrics.confusion_matrix(y_test , y_pred_log_reg)\n",
    "\n",
    "print(\"Model Name : Logistic Regression\")\n",
    "print('Accuracy :{0:0.2f} %'.format(acc_log_reg)) \n",
    "print('AUC : {0:0.2f}'.format(Aucs))\n",
    "print('Precision : {0:0.2f}'.format(PrecisionScore))\n",
    "print('Recall : {0:0.2f}'.format(RecallScore))\n",
    "print('F1 : {0:0.2f}'.format(F1Score))\n",
    "print('Confusion Matrix : \\n', cnf_matrix)\n",
    "print(\"\\n\")"
   ]
  },
  {
   "cell_type": "code",
   "execution_count": null,
   "metadata": {},
   "outputs": [],
   "source": []
  },
  {
   "cell_type": "code",
   "execution_count": null,
   "metadata": {},
   "outputs": [],
   "source": []
  },
  {
   "cell_type": "code",
   "execution_count": 87,
   "metadata": {},
   "outputs": [
    {
     "data": {
      "text/plain": [
       "LogisticRegression(max_iter=1000)"
      ]
     },
     "execution_count": 87,
     "metadata": {},
     "output_type": "execute_result"
    }
   ],
   "source": [
    "# SMOTE Sampling with Logistic Regression\n",
    "logreg = LogisticRegression(max_iter=1000)\n",
    "logreg.fit(X_train, y_train)"
   ]
  },
  {
   "cell_type": "code",
   "execution_count": 88,
   "metadata": {},
   "outputs": [
    {
     "name": "stdout",
     "output_type": "stream",
     "text": [
      "Accuracy :0.78803\n",
      "AUC : 0.60083\n",
      "Precision : 0.63004\n",
      "Recall : 0.24633\n",
      "F1 : 0.35418\n"
     ]
    }
   ],
   "source": [
    "y_pred = logreg.predict(X_test)\n",
    "\n",
    "\n",
    "print('Accuracy :{0:0.5f}'.format(metrics.accuracy_score(y_test , y_pred))) \n",
    "print('AUC : {0:0.5f}'.format(metrics.roc_auc_score(y_test , y_pred)))\n",
    "print('Precision : {0:0.5f}'.format(metrics.precision_score(y_test , y_pred)))\n",
    "print('Recall : {0:0.5f}'.format(metrics.recall_score(y_test , y_pred)))\n",
    "print('F1 : {0:0.5f}'.format(metrics.f1_score(y_test , y_pred)))"
   ]
  },
  {
   "cell_type": "code",
   "execution_count": 89,
   "metadata": {},
   "outputs": [
    {
     "name": "stdout",
     "output_type": "stream",
     "text": [
      "AUC -  0.6008286342220696 \n",
      "\n"
     ]
    },
    {
     "data": {
      "image/png": "[encoded data removed]",
      "text/plain": [
       "<Figure size 576x432 with 1 Axes>"
      ]
     },
     "metadata": {},
     "output_type": "display_data"
    }
   ],
   "source": [
    "# plot ROC Curve\n",
    "\n",
    "plt.figure(figsize=(8,6))\n",
    "\n",
    "fpr, tpr, thresholds = metrics.roc_curve(y_test, y_pred)\n",
    "\n",
    "auc = metrics.roc_auc_score(y_test, y_pred)\n",
    "print(\"AUC - \",auc,\"\\n\")\n",
    "\n",
    "plt.plot(fpr,tpr,linewidth=2, label=\"data 1, auc=\"+str(auc))\n",
    "plt.legend(loc=4)\n",
    "\n",
    "plt.plot([0,1], [0,1], 'k--' )\n",
    "\n",
    "plt.rcParams['font.size'] = 12\n",
    "plt.title('ROC curve for Predicting a credit card fraud detection')\n",
    "plt.xlabel('False Positive Rate (1 - Specificity)')\n",
    "plt.ylabel('True Positive Rate (Sensitivity)')\n",
    "\n",
    "plt.show()"
   ]
  },
  {
   "cell_type": "code",
   "execution_count": null,
   "metadata": {},
   "outputs": [],
   "source": []
  },
  {
   "cell_type": "code",
   "execution_count": null,
   "metadata": {},
   "outputs": [],
   "source": []
  },
  {
   "cell_type": "code",
   "execution_count": null,
   "metadata": {},
   "outputs": [],
   "source": []
  }
 ],
 "metadata": {
  "kernelspec": {
   "display_name": "Python 3",
   "language": "python",
   "name": "python3"
  },
  "language_info": {
   "codemirror_mode": {
    "name": "ipython",
    "version": 3
   },
   "file_extension": ".py",
   "mimetype": "text/x-python",
   "name": "python",
   "nbconvert_exporter": "python",
   "pygments_lexer": "ipython3",
   "version": "3.8.5"
  }
 },
 "nbformat": 4,
 "nbformat_minor": 4
}
